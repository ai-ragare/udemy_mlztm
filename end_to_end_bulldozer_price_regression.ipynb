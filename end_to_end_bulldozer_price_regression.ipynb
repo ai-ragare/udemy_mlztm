{
  "nbformat": 4,
  "nbformat_minor": 0,
  "metadata": {
    "colab": {
      "name": "end-to-end-bulldozer-price-regression.ipynb",
      "provenance": [],
      "collapsed_sections": [],
      "toc_visible": true,
      "authorship_tag": "ABX9TyPEqp6mKsUtq5ROFt1VbWSa",
      "include_colab_link": true
    },
    "kernelspec": {
      "name": "python3",
      "display_name": "Python 3"
    }
  },
  "cells": [
    {
      "cell_type": "markdown",
      "metadata": {
        "id": "view-in-github",
        "colab_type": "text"
      },
      "source": [
        "<a href=\"https://colab.research.google.com/github/ai-ragare/udemy_mlztm/blob/master/end_to_end_bulldozer_price_regression.ipynb\" target=\"_parent\"><img src=\"https://colab.research.google.com/assets/colab-badge.svg\" alt=\"Open In Colab\"/></a>"
      ]
    },
    {
      "cell_type": "code",
      "metadata": {
        "id": "HaMhKDJnE9hX",
        "colab_type": "code",
        "colab": {
          "base_uri": "https://localhost:8080/",
          "height": 122
        },
        "outputId": "baba7ece-67de-455f-c6e2-578c6de83683"
      },
      "source": [
        "# Mount Google Drive as a local directory\n",
        "from google.colab import drive\n",
        "drive.mount('/content/drive')"
      ],
      "execution_count": 2,
      "outputs": [
        {
          "output_type": "stream",
          "text": [
            "Go to this URL in a browser: https://accounts.google.com/o/oauth2/auth?client_id=947318989803-6bn6qk8qdgf4n4g3pfee6491hc0brc4i.apps.googleusercontent.com&redirect_uri=urn%3aietf%3awg%3aoauth%3a2.0%3aoob&response_type=code&scope=email%20https%3a%2f%2fwww.googleapis.com%2fauth%2fdocs.test%20https%3a%2f%2fwww.googleapis.com%2fauth%2fdrive%20https%3a%2f%2fwww.googleapis.com%2fauth%2fdrive.photos.readonly%20https%3a%2f%2fwww.googleapis.com%2fauth%2fpeopleapi.readonly\n",
            "\n",
            "Enter your authorization code:\n",
            "··········\n",
            "Mounted at /content/drive\n"
          ],
          "name": "stdout"
        }
      ]
    },
    {
      "cell_type": "markdown",
      "metadata": {
        "id": "dFkSqVBOFibu",
        "colab_type": "text"
      },
      "source": [
        "# Predicting the sale price of bulldozer using Machine Learning"
      ]
    },
    {
      "cell_type": "markdown",
      "metadata": {
        "id": "PhXNXF_GGyIl",
        "colab_type": "text"
      },
      "source": [
        "## Imports\n",
        "In this section we import all we need all over the notebook"
      ]
    },
    {
      "cell_type": "code",
      "metadata": {
        "id": "NATeJf2KG6hd",
        "colab_type": "code",
        "colab": {}
      },
      "source": [
        "import numpy as np\n",
        "import pandas as pd\n",
        "import matplotlib.pyplot as plt\n"
      ],
      "execution_count": 0,
      "outputs": []
    },
    {
      "cell_type": "markdown",
      "metadata": {
        "id": "OXc0CyJhGhQW",
        "colab_type": "text"
      },
      "source": [
        "## Problem definition\n",
        "> Predict the auction sale price for a piece of heavy equipment to create a \"blue book\" for bulldozers."
      ]
    },
    {
      "cell_type": "markdown",
      "metadata": {
        "id": "TIEnE2SvIfx_",
        "colab_type": "text"
      },
      "source": [
        "## Data\n",
        "Data is downloaded from the Kaggle Bluebook for Bulldozers competition (https://www.kaggle.com/c/bluebook-for-bulldozers/data):\n",
        "\n",
        "There are three main datasets:\n",
        "\n",
        "* Train.csv is the training set, which contains data through the end of 2011.\n",
        "* Valid.csv is the validation set, which contains data from January 1, 2012 - \n",
        "April 30, 2012 You make predictions on this set throughout the majority of the competition. Your score on this set is used to create the public leaderboard.\n",
        "* Test.csv is the test set, which won't be released until the last week of the competition. It contains data from May 1, 2012 - November 2012. Your score on the test set determines your final rank for the competition.\n"
      ]
    },
    {
      "cell_type": "markdown",
      "metadata": {
        "id": "-Z554kC6JaYp",
        "colab_type": "text"
      },
      "source": [
        "## Evaluation\n",
        "The evaluation metric for this competition is the RMSLE (root mean squared log error) between the actual and predicted auction prices.\n",
        "\n",
        "**Note**: The goal for most regression evaluation metrics is to minimize the error. For example, our goal for this project will be to build a machine learning model which minimises RSMLE"
      ]
    },
    {
      "cell_type": "markdown",
      "metadata": {
        "id": "urMvt7MvKL0W",
        "colab_type": "text"
      },
      "source": [
        "## Features\n",
        "Kaggle provides a data description (https://drive.google.com/open?id=1Ojohg1fQYA4TlWuAhdzUJriohEghnfmf)\n",
        "\n"
      ]
    },
    {
      "cell_type": "markdown",
      "metadata": {
        "id": "ovtf_ageLSZC",
        "colab_type": "text"
      },
      "source": [
        "# Project"
      ]
    },
    {
      "cell_type": "code",
      "metadata": {
        "id": "gJGITZimGeOT",
        "colab_type": "code",
        "colab": {}
      },
      "source": [
        "# Imports\n",
        "import numpy as np\n",
        "import pandas as pd\n",
        "import matplotlib.pyplot as plt\n",
        "import sklearn"
      ],
      "execution_count": 0,
      "outputs": []
    },
    {
      "cell_type": "code",
      "metadata": {
        "id": "Fa6uXlQrLhgs",
        "colab_type": "code",
        "colab": {}
      },
      "source": [
        "# Importing training and valudation data sets\n",
        "df = pd.read_csv(\"/content/drive/My Drive/courses/udemy_mlztm/data/bluebook-for-bulldozers/TrainAndValid.csv\", low_memory=False)"
      ],
      "execution_count": 0,
      "outputs": []
    },
    {
      "cell_type": "code",
      "metadata": {
        "id": "vKz30hoXLybt",
        "colab_type": "code",
        "colab": {
          "base_uri": "https://localhost:8080/",
          "height": 1000
        },
        "outputId": "acb75214-aec9-4e1b-a970-a36b845b5b67"
      },
      "source": [
        "df.info()"
      ],
      "execution_count": 6,
      "outputs": [
        {
          "output_type": "stream",
          "text": [
            "<class 'pandas.core.frame.DataFrame'>\n",
            "RangeIndex: 412698 entries, 0 to 412697\n",
            "Data columns (total 53 columns):\n",
            " #   Column                    Non-Null Count   Dtype  \n",
            "---  ------                    --------------   -----  \n",
            " 0   SalesID                   412698 non-null  int64  \n",
            " 1   SalePrice                 412698 non-null  float64\n",
            " 2   MachineID                 412698 non-null  int64  \n",
            " 3   ModelID                   412698 non-null  int64  \n",
            " 4   datasource                412698 non-null  int64  \n",
            " 5   auctioneerID              392562 non-null  float64\n",
            " 6   YearMade                  412698 non-null  int64  \n",
            " 7   MachineHoursCurrentMeter  147504 non-null  float64\n",
            " 8   UsageBand                 73670 non-null   object \n",
            " 9   saledate                  412698 non-null  object \n",
            " 10  fiModelDesc               412698 non-null  object \n",
            " 11  fiBaseModel               412698 non-null  object \n",
            " 12  fiSecondaryDesc           271971 non-null  object \n",
            " 13  fiModelSeries             58667 non-null   object \n",
            " 14  fiModelDescriptor         74816 non-null   object \n",
            " 15  ProductSize               196093 non-null  object \n",
            " 16  fiProductClassDesc        412698 non-null  object \n",
            " 17  state                     412698 non-null  object \n",
            " 18  ProductGroup              412698 non-null  object \n",
            " 19  ProductGroupDesc          412698 non-null  object \n",
            " 20  Drive_System              107087 non-null  object \n",
            " 21  Enclosure                 412364 non-null  object \n",
            " 22  Forks                     197715 non-null  object \n",
            " 23  Pad_Type                  81096 non-null   object \n",
            " 24  Ride_Control              152728 non-null  object \n",
            " 25  Stick                     81096 non-null   object \n",
            " 26  Transmission              188007 non-null  object \n",
            " 27  Turbocharged              81096 non-null   object \n",
            " 28  Blade_Extension           25983 non-null   object \n",
            " 29  Blade_Width               25983 non-null   object \n",
            " 30  Enclosure_Type            25983 non-null   object \n",
            " 31  Engine_Horsepower         25983 non-null   object \n",
            " 32  Hydraulics                330133 non-null  object \n",
            " 33  Pushblock                 25983 non-null   object \n",
            " 34  Ripper                    106945 non-null  object \n",
            " 35  Scarifier                 25994 non-null   object \n",
            " 36  Tip_Control               25983 non-null   object \n",
            " 37  Tire_Size                 97638 non-null   object \n",
            " 38  Coupler                   220679 non-null  object \n",
            " 39  Coupler_System            44974 non-null   object \n",
            " 40  Grouser_Tracks            44875 non-null   object \n",
            " 41  Hydraulics_Flow           44875 non-null   object \n",
            " 42  Track_Type                102193 non-null  object \n",
            " 43  Undercarriage_Pad_Width   102916 non-null  object \n",
            " 44  Stick_Length              102261 non-null  object \n",
            " 45  Thumb                     102332 non-null  object \n",
            " 46  Pattern_Changer           102261 non-null  object \n",
            " 47  Grouser_Type              102193 non-null  object \n",
            " 48  Backhoe_Mounting          80712 non-null   object \n",
            " 49  Blade_Type                81875 non-null   object \n",
            " 50  Travel_Controls           81877 non-null   object \n",
            " 51  Differential_Type         71564 non-null   object \n",
            " 52  Steering_Controls         71522 non-null   object \n",
            "dtypes: float64(3), int64(5), object(45)\n",
            "memory usage: 166.9+ MB\n"
          ],
          "name": "stdout"
        }
      ]
    },
    {
      "cell_type": "code",
      "metadata": {
        "id": "agSOWKeplfFt",
        "colab_type": "code",
        "colab": {
          "base_uri": "https://localhost:8080/",
          "height": 935
        },
        "outputId": "1cf83f76-5174-4ab6-9507-f8c11a51825b"
      },
      "source": [
        "df.isna().sum()"
      ],
      "execution_count": 7,
      "outputs": [
        {
          "output_type": "execute_result",
          "data": {
            "text/plain": [
              "SalesID                          0\n",
              "SalePrice                        0\n",
              "MachineID                        0\n",
              "ModelID                          0\n",
              "datasource                       0\n",
              "auctioneerID                 20136\n",
              "YearMade                         0\n",
              "MachineHoursCurrentMeter    265194\n",
              "UsageBand                   339028\n",
              "saledate                         0\n",
              "fiModelDesc                      0\n",
              "fiBaseModel                      0\n",
              "fiSecondaryDesc             140727\n",
              "fiModelSeries               354031\n",
              "fiModelDescriptor           337882\n",
              "ProductSize                 216605\n",
              "fiProductClassDesc               0\n",
              "state                            0\n",
              "ProductGroup                     0\n",
              "ProductGroupDesc                 0\n",
              "Drive_System                305611\n",
              "Enclosure                      334\n",
              "Forks                       214983\n",
              "Pad_Type                    331602\n",
              "Ride_Control                259970\n",
              "Stick                       331602\n",
              "Transmission                224691\n",
              "Turbocharged                331602\n",
              "Blade_Extension             386715\n",
              "Blade_Width                 386715\n",
              "Enclosure_Type              386715\n",
              "Engine_Horsepower           386715\n",
              "Hydraulics                   82565\n",
              "Pushblock                   386715\n",
              "Ripper                      305753\n",
              "Scarifier                   386704\n",
              "Tip_Control                 386715\n",
              "Tire_Size                   315060\n",
              "Coupler                     192019\n",
              "Coupler_System              367724\n",
              "Grouser_Tracks              367823\n",
              "Hydraulics_Flow             367823\n",
              "Track_Type                  310505\n",
              "Undercarriage_Pad_Width     309782\n",
              "Stick_Length                310437\n",
              "Thumb                       310366\n",
              "Pattern_Changer             310437\n",
              "Grouser_Type                310505\n",
              "Backhoe_Mounting            331986\n",
              "Blade_Type                  330823\n",
              "Travel_Controls             330821\n",
              "Differential_Type           341134\n",
              "Steering_Controls           341176\n",
              "dtype: int64"
            ]
          },
          "metadata": {
            "tags": []
          },
          "execution_count": 7
        }
      ]
    },
    {
      "cell_type": "code",
      "metadata": {
        "id": "YWq1d-47L8rV",
        "colab_type": "code",
        "colab": {
          "base_uri": "https://localhost:8080/",
          "height": 282
        },
        "outputId": "736f09c6-8860-439d-e7c3-6ad550833c4b"
      },
      "source": [
        "fig, ax = plt.subplots()\n",
        "ax.scatter(df[\"saledate\"][:1000], df[\"SalePrice\"][:1000])"
      ],
      "execution_count": 8,
      "outputs": [
        {
          "output_type": "execute_result",
          "data": {
            "text/plain": [
              "<matplotlib.collections.PathCollection at 0x7f0390abc0f0>"
            ]
          },
          "metadata": {
            "tags": []
          },
          "execution_count": 8
        },
        {
          "output_type": "display_data",
          "data": {
            "image/png": "[encoded data removed]",
            "text/plain": [
              "<Figure size 432x288 with 1 Axes>"
            ]
          },
          "metadata": {
            "tags": []
          }
        }
      ]
    },
    {
      "cell_type": "code",
      "metadata": {
        "id": "52CSFvX-lc3M",
        "colab_type": "code",
        "colab": {
          "base_uri": "https://localhost:8080/",
          "height": 221
        },
        "outputId": "1689000c-d0cf-4cae-d63b-c77d97697b97"
      },
      "source": [
        "df.saledate[:1000]"
      ],
      "execution_count": 9,
      "outputs": [
        {
          "output_type": "execute_result",
          "data": {
            "text/plain": [
              "0      11/16/2006 0:00\n",
              "1       3/26/2004 0:00\n",
              "2       2/26/2004 0:00\n",
              "3       5/19/2011 0:00\n",
              "4       7/23/2009 0:00\n",
              "            ...       \n",
              "995     7/16/2009 0:00\n",
              "996     6/14/2007 0:00\n",
              "997     9/22/2005 0:00\n",
              "998     7/28/2005 0:00\n",
              "999     6/16/2011 0:00\n",
              "Name: saledate, Length: 1000, dtype: object"
            ]
          },
          "metadata": {
            "tags": []
          },
          "execution_count": 9
        }
      ]
    },
    {
      "cell_type": "code",
      "metadata": {
        "id": "bZIPzxslmST8",
        "colab_type": "code",
        "colab": {
          "base_uri": "https://localhost:8080/",
          "height": 282
        },
        "outputId": "1bd85c4f-63ac-4044-b0ad-172a1a8ae090"
      },
      "source": [
        "df.SalePrice.plot.hist()"
      ],
      "execution_count": 10,
      "outputs": [
        {
          "output_type": "execute_result",
          "data": {
            "text/plain": [
              "<matplotlib.axes._subplots.AxesSubplot at 0x7f038db7ff60>"
            ]
          },
          "metadata": {
            "tags": []
          },
          "execution_count": 10
        },
        {
          "output_type": "display_data",
          "data": {
            "image/png": "[encoded data removed]",
            "text/plain": [
              "<Figure size 432x288 with 1 Axes>"
            ]
          },
          "metadata": {
            "tags": []
          }
        }
      ]
    },
    {
      "cell_type": "markdown",
      "metadata": {
        "id": "8QnjfnGNmwwl",
        "colab_type": "text"
      },
      "source": [
        "### Parsing dates\n",
        "When we work with time series data, we want to enrich the time and date component as much as possible.\n",
        "\n",
        "We cand do that by telling pandas which of our columns has dates in it using the `parse_dates` parameter\n"
      ]
    },
    {
      "cell_type": "code",
      "metadata": {
        "id": "B9pbZ9j9mYMt",
        "colab_type": "code",
        "colab": {}
      },
      "source": [
        "# Import data again but this time parse dates\n",
        "df = pd.read_csv(\"/content/drive/My Drive/courses/udemy_mlztm/data/bluebook-for-bulldozers/TrainAndValid.csv\", \n",
        "                 low_memory=False,\n",
        "                 parse_dates=[\"saledate\"])"
      ],
      "execution_count": 0,
      "outputs": []
    },
    {
      "cell_type": "code",
      "metadata": {
        "id": "w6s9uLUBntBu",
        "colab_type": "code",
        "colab": {
          "base_uri": "https://localhost:8080/",
          "height": 34
        },
        "outputId": "c2454a02-8eb2-439e-a87a-8ad7090de13b"
      },
      "source": [
        "df.saledate.dtype"
      ],
      "execution_count": 12,
      "outputs": [
        {
          "output_type": "execute_result",
          "data": {
            "text/plain": [
              "dtype('<M8[ns]')"
            ]
          },
          "metadata": {
            "tags": []
          },
          "execution_count": 12
        }
      ]
    },
    {
      "cell_type": "code",
      "metadata": {
        "id": "NpmzZJScnvz6",
        "colab_type": "code",
        "colab": {
          "base_uri": "https://localhost:8080/",
          "height": 221
        },
        "outputId": "f729674f-fcea-4441-ab5e-6927e056271a"
      },
      "source": [
        "df.saledate[:1000]"
      ],
      "execution_count": 13,
      "outputs": [
        {
          "output_type": "execute_result",
          "data": {
            "text/plain": [
              "0     2006-11-16\n",
              "1     2004-03-26\n",
              "2     2004-02-26\n",
              "3     2011-05-19\n",
              "4     2009-07-23\n",
              "         ...    \n",
              "995   2009-07-16\n",
              "996   2007-06-14\n",
              "997   2005-09-22\n",
              "998   2005-07-28\n",
              "999   2011-06-16\n",
              "Name: saledate, Length: 1000, dtype: datetime64[ns]"
            ]
          },
          "metadata": {
            "tags": []
          },
          "execution_count": 13
        }
      ]
    },
    {
      "cell_type": "code",
      "metadata": {
        "id": "GXSxOQ6ln-7b",
        "colab_type": "code",
        "colab": {
          "base_uri": "https://localhost:8080/",
          "height": 265
        },
        "outputId": "2db9d454-8f12-4c90-ddf8-e87a90ea2996"
      },
      "source": [
        "fig, ax = plt.subplots()\n",
        "ax.scatter(df[\"saledate\"][:1000], df[\"SalePrice\"][:1000]);"
      ],
      "execution_count": 14,
      "outputs": [
        {
          "output_type": "display_data",
          "data": {
            "image/png": "[encoded data removed]",
            "text/plain": [
              "<Figure size 432x288 with 1 Axes>"
            ]
          },
          "metadata": {
            "tags": []
          }
        }
      ]
    },
    {
      "cell_type": "code",
      "metadata": {
        "id": "ayv048IooWtt",
        "colab_type": "code",
        "colab": {
          "base_uri": "https://localhost:8080/",
          "height": 1000
        },
        "outputId": "71b88473-6949-483a-b738-1a0c5388c821"
      },
      "source": [
        "df.head().T"
      ],
      "execution_count": 15,
      "outputs": [
        {
          "output_type": "execute_result",
          "data": {
            "text/html": [
              "<div>\n",
              "<style scoped>\n",
              "    .dataframe tbody tr th:only-of-type {\n",
              "        vertical-align: middle;\n",
              "    }\n",
              "\n",
              "    .dataframe tbody tr th {\n",
              "        vertical-align: top;\n",
              "    }\n",
              "\n",
              "    .dataframe thead th {\n",
              "        text-align: right;\n",
              "    }\n",
              "</style>\n",
              "<table border=\"1\" class=\"dataframe\">\n",
              "  <thead>\n",
              "    <tr style=\"text-align: right;\">\n",
              "      <th></th>\n",
              "      <th>0</th>\n",
              "      <th>1</th>\n",
              "      <th>2</th>\n",
              "      <th>3</th>\n",
              "      <th>4</th>\n",
              "    </tr>\n",
              "  </thead>\n",
              "  <tbody>\n",
              "    <tr>\n",
              "      <th>SalesID</th>\n",
              "      <td>1139246</td>\n",
              "      <td>1139248</td>\n",
              "      <td>1139249</td>\n",
              "      <td>1139251</td>\n",
              "      <td>1139253</td>\n",
              "    </tr>\n",
              "    <tr>\n",
              "      <th>SalePrice</th>\n",
              "      <td>66000</td>\n",
              "      <td>57000</td>\n",
              "      <td>10000</td>\n",
              "      <td>38500</td>\n",
              "      <td>11000</td>\n",
              "    </tr>\n",
              "    <tr>\n",
              "      <th>MachineID</th>\n",
              "      <td>999089</td>\n",
              "      <td>117657</td>\n",
              "      <td>434808</td>\n",
              "      <td>1026470</td>\n",
              "      <td>1057373</td>\n",
              "    </tr>\n",
              "    <tr>\n",
              "      <th>ModelID</th>\n",
              "      <td>3157</td>\n",
              "      <td>77</td>\n",
              "      <td>7009</td>\n",
              "      <td>332</td>\n",
              "      <td>17311</td>\n",
              "    </tr>\n",
              "    <tr>\n",
              "      <th>datasource</th>\n",
              "      <td>121</td>\n",
              "      <td>121</td>\n",
              "      <td>121</td>\n",
              "      <td>121</td>\n",
              "      <td>121</td>\n",
              "    </tr>\n",
              "    <tr>\n",
              "      <th>auctioneerID</th>\n",
              "      <td>3</td>\n",
              "      <td>3</td>\n",
              "      <td>3</td>\n",
              "      <td>3</td>\n",
              "      <td>3</td>\n",
              "    </tr>\n",
              "    <tr>\n",
              "      <th>YearMade</th>\n",
              "      <td>2004</td>\n",
              "      <td>1996</td>\n",
              "      <td>2001</td>\n",
              "      <td>2001</td>\n",
              "      <td>2007</td>\n",
              "    </tr>\n",
              "    <tr>\n",
              "      <th>MachineHoursCurrentMeter</th>\n",
              "      <td>68</td>\n",
              "      <td>4640</td>\n",
              "      <td>2838</td>\n",
              "      <td>3486</td>\n",
              "      <td>722</td>\n",
              "    </tr>\n",
              "    <tr>\n",
              "      <th>UsageBand</th>\n",
              "      <td>Low</td>\n",
              "      <td>Low</td>\n",
              "      <td>High</td>\n",
              "      <td>High</td>\n",
              "      <td>Medium</td>\n",
              "    </tr>\n",
              "    <tr>\n",
              "      <th>saledate</th>\n",
              "      <td>2006-11-16 00:00:00</td>\n",
              "      <td>2004-03-26 00:00:00</td>\n",
              "      <td>2004-02-26 00:00:00</td>\n",
              "      <td>2011-05-19 00:00:00</td>\n",
              "      <td>2009-07-23 00:00:00</td>\n",
              "    </tr>\n",
              "    <tr>\n",
              "      <th>fiModelDesc</th>\n",
              "      <td>521D</td>\n",
              "      <td>950FII</td>\n",
              "      <td>226</td>\n",
              "      <td>PC120-6E</td>\n",
              "      <td>S175</td>\n",
              "    </tr>\n",
              "    <tr>\n",
              "      <th>fiBaseModel</th>\n",
              "      <td>521</td>\n",
              "      <td>950</td>\n",
              "      <td>226</td>\n",
              "      <td>PC120</td>\n",
              "      <td>S175</td>\n",
              "    </tr>\n",
              "    <tr>\n",
              "      <th>fiSecondaryDesc</th>\n",
              "      <td>D</td>\n",
              "      <td>F</td>\n",
              "      <td>NaN</td>\n",
              "      <td>NaN</td>\n",
              "      <td>NaN</td>\n",
              "    </tr>\n",
              "    <tr>\n",
              "      <th>fiModelSeries</th>\n",
              "      <td>NaN</td>\n",
              "      <td>II</td>\n",
              "      <td>NaN</td>\n",
              "      <td>-6E</td>\n",
              "      <td>NaN</td>\n",
              "    </tr>\n",
              "    <tr>\n",
              "      <th>fiModelDescriptor</th>\n",
              "      <td>NaN</td>\n",
              "      <td>NaN</td>\n",
              "      <td>NaN</td>\n",
              "      <td>NaN</td>\n",
              "      <td>NaN</td>\n",
              "    </tr>\n",
              "    <tr>\n",
              "      <th>ProductSize</th>\n",
              "      <td>NaN</td>\n",
              "      <td>Medium</td>\n",
              "      <td>NaN</td>\n",
              "      <td>Small</td>\n",
              "      <td>NaN</td>\n",
              "    </tr>\n",
              "    <tr>\n",
              "      <th>fiProductClassDesc</th>\n",
              "      <td>Wheel Loader - 110.0 to 120.0 Horsepower</td>\n",
              "      <td>Wheel Loader - 150.0 to 175.0 Horsepower</td>\n",
              "      <td>Skid Steer Loader - 1351.0 to 1601.0 Lb Operat...</td>\n",
              "      <td>Hydraulic Excavator, Track - 12.0 to 14.0 Metr...</td>\n",
              "      <td>Skid Steer Loader - 1601.0 to 1751.0 Lb Operat...</td>\n",
              "    </tr>\n",
              "    <tr>\n",
              "      <th>state</th>\n",
              "      <td>Alabama</td>\n",
              "      <td>North Carolina</td>\n",
              "      <td>New York</td>\n",
              "      <td>Texas</td>\n",
              "      <td>New York</td>\n",
              "    </tr>\n",
              "    <tr>\n",
              "      <th>ProductGroup</th>\n",
              "      <td>WL</td>\n",
              "      <td>WL</td>\n",
              "      <td>SSL</td>\n",
              "      <td>TEX</td>\n",
              "      <td>SSL</td>\n",
              "    </tr>\n",
              "    <tr>\n",
              "      <th>ProductGroupDesc</th>\n",
              "      <td>Wheel Loader</td>\n",
              "      <td>Wheel Loader</td>\n",
              "      <td>Skid Steer Loaders</td>\n",
              "      <td>Track Excavators</td>\n",
              "      <td>Skid Steer Loaders</td>\n",
              "    </tr>\n",
              "    <tr>\n",
              "      <th>Drive_System</th>\n",
              "      <td>NaN</td>\n",
              "      <td>NaN</td>\n",
              "      <td>NaN</td>\n",
              "      <td>NaN</td>\n",
              "      <td>NaN</td>\n",
              "    </tr>\n",
              "    <tr>\n",
              "      <th>Enclosure</th>\n",
              "      <td>EROPS w AC</td>\n",
              "      <td>EROPS w AC</td>\n",
              "      <td>OROPS</td>\n",
              "      <td>EROPS w AC</td>\n",
              "      <td>EROPS</td>\n",
              "    </tr>\n",
              "    <tr>\n",
              "      <th>Forks</th>\n",
              "      <td>None or Unspecified</td>\n",
              "      <td>None or Unspecified</td>\n",
              "      <td>None or Unspecified</td>\n",
              "      <td>NaN</td>\n",
              "      <td>None or Unspecified</td>\n",
              "    </tr>\n",
              "    <tr>\n",
              "      <th>Pad_Type</th>\n",
              "      <td>NaN</td>\n",
              "      <td>NaN</td>\n",
              "      <td>NaN</td>\n",
              "      <td>NaN</td>\n",
              "      <td>NaN</td>\n",
              "    </tr>\n",
              "    <tr>\n",
              "      <th>Ride_Control</th>\n",
              "      <td>None or Unspecified</td>\n",
              "      <td>None or Unspecified</td>\n",
              "      <td>NaN</td>\n",
              "      <td>NaN</td>\n",
              "      <td>NaN</td>\n",
              "    </tr>\n",
              "    <tr>\n",
              "      <th>Stick</th>\n",
              "      <td>NaN</td>\n",
              "      <td>NaN</td>\n",
              "      <td>NaN</td>\n",
              "      <td>NaN</td>\n",
              "      <td>NaN</td>\n",
              "    </tr>\n",
              "    <tr>\n",
              "      <th>Transmission</th>\n",
              "      <td>NaN</td>\n",
              "      <td>NaN</td>\n",
              "      <td>NaN</td>\n",
              "      <td>NaN</td>\n",
              "      <td>NaN</td>\n",
              "    </tr>\n",
              "    <tr>\n",
              "      <th>Turbocharged</th>\n",
              "      <td>NaN</td>\n",
              "      <td>NaN</td>\n",
              "      <td>NaN</td>\n",
              "      <td>NaN</td>\n",
              "      <td>NaN</td>\n",
              "    </tr>\n",
              "    <tr>\n",
              "      <th>Blade_Extension</th>\n",
              "      <td>NaN</td>\n",
              "      <td>NaN</td>\n",
              "      <td>NaN</td>\n",
              "      <td>NaN</td>\n",
              "      <td>NaN</td>\n",
              "    </tr>\n",
              "    <tr>\n",
              "      <th>Blade_Width</th>\n",
              "      <td>NaN</td>\n",
              "      <td>NaN</td>\n",
              "      <td>NaN</td>\n",
              "      <td>NaN</td>\n",
              "      <td>NaN</td>\n",
              "    </tr>\n",
              "    <tr>\n",
              "      <th>Enclosure_Type</th>\n",
              "      <td>NaN</td>\n",
              "      <td>NaN</td>\n",
              "      <td>NaN</td>\n",
              "      <td>NaN</td>\n",
              "      <td>NaN</td>\n",
              "    </tr>\n",
              "    <tr>\n",
              "      <th>Engine_Horsepower</th>\n",
              "      <td>NaN</td>\n",
              "      <td>NaN</td>\n",
              "      <td>NaN</td>\n",
              "      <td>NaN</td>\n",
              "      <td>NaN</td>\n",
              "    </tr>\n",
              "    <tr>\n",
              "      <th>Hydraulics</th>\n",
              "      <td>2 Valve</td>\n",
              "      <td>2 Valve</td>\n",
              "      <td>Auxiliary</td>\n",
              "      <td>2 Valve</td>\n",
              "      <td>Auxiliary</td>\n",
              "    </tr>\n",
              "    <tr>\n",
              "      <th>Pushblock</th>\n",
              "      <td>NaN</td>\n",
              "      <td>NaN</td>\n",
              "      <td>NaN</td>\n",
              "      <td>NaN</td>\n",
              "      <td>NaN</td>\n",
              "    </tr>\n",
              "    <tr>\n",
              "      <th>Ripper</th>\n",
              "      <td>NaN</td>\n",
              "      <td>NaN</td>\n",
              "      <td>NaN</td>\n",
              "      <td>NaN</td>\n",
              "      <td>NaN</td>\n",
              "    </tr>\n",
              "    <tr>\n",
              "      <th>Scarifier</th>\n",
              "      <td>NaN</td>\n",
              "      <td>NaN</td>\n",
              "      <td>NaN</td>\n",
              "      <td>NaN</td>\n",
              "      <td>NaN</td>\n",
              "    </tr>\n",
              "    <tr>\n",
              "      <th>Tip_Control</th>\n",
              "      <td>NaN</td>\n",
              "      <td>NaN</td>\n",
              "      <td>NaN</td>\n",
              "      <td>NaN</td>\n",
              "      <td>NaN</td>\n",
              "    </tr>\n",
              "    <tr>\n",
              "      <th>Tire_Size</th>\n",
              "      <td>None or Unspecified</td>\n",
              "      <td>23.5</td>\n",
              "      <td>NaN</td>\n",
              "      <td>NaN</td>\n",
              "      <td>NaN</td>\n",
              "    </tr>\n",
              "    <tr>\n",
              "      <th>Coupler</th>\n",
              "      <td>None or Unspecified</td>\n",
              "      <td>None or Unspecified</td>\n",
              "      <td>None or Unspecified</td>\n",
              "      <td>None or Unspecified</td>\n",
              "      <td>None or Unspecified</td>\n",
              "    </tr>\n",
              "    <tr>\n",
              "      <th>Coupler_System</th>\n",
              "      <td>NaN</td>\n",
              "      <td>NaN</td>\n",
              "      <td>None or Unspecified</td>\n",
              "      <td>NaN</td>\n",
              "      <td>None or Unspecified</td>\n",
              "    </tr>\n",
              "    <tr>\n",
              "      <th>Grouser_Tracks</th>\n",
              "      <td>NaN</td>\n",
              "      <td>NaN</td>\n",
              "      <td>None or Unspecified</td>\n",
              "      <td>NaN</td>\n",
              "      <td>None or Unspecified</td>\n",
              "    </tr>\n",
              "    <tr>\n",
              "      <th>Hydraulics_Flow</th>\n",
              "      <td>NaN</td>\n",
              "      <td>NaN</td>\n",
              "      <td>Standard</td>\n",
              "      <td>NaN</td>\n",
              "      <td>Standard</td>\n",
              "    </tr>\n",
              "    <tr>\n",
              "      <th>Track_Type</th>\n",
              "      <td>NaN</td>\n",
              "      <td>NaN</td>\n",
              "      <td>NaN</td>\n",
              "      <td>NaN</td>\n",
              "      <td>NaN</td>\n",
              "    </tr>\n",
              "    <tr>\n",
              "      <th>Undercarriage_Pad_Width</th>\n",
              "      <td>NaN</td>\n",
              "      <td>NaN</td>\n",
              "      <td>NaN</td>\n",
              "      <td>NaN</td>\n",
              "      <td>NaN</td>\n",
              "    </tr>\n",
              "    <tr>\n",
              "      <th>Stick_Length</th>\n",
              "      <td>NaN</td>\n",
              "      <td>NaN</td>\n",
              "      <td>NaN</td>\n",
              "      <td>NaN</td>\n",
              "      <td>NaN</td>\n",
              "    </tr>\n",
              "    <tr>\n",
              "      <th>Thumb</th>\n",
              "      <td>NaN</td>\n",
              "      <td>NaN</td>\n",
              "      <td>NaN</td>\n",
              "      <td>NaN</td>\n",
              "      <td>NaN</td>\n",
              "    </tr>\n",
              "    <tr>\n",
              "      <th>Pattern_Changer</th>\n",
              "      <td>NaN</td>\n",
              "      <td>NaN</td>\n",
              "      <td>NaN</td>\n",
              "      <td>NaN</td>\n",
              "      <td>NaN</td>\n",
              "    </tr>\n",
              "    <tr>\n",
              "      <th>Grouser_Type</th>\n",
              "      <td>NaN</td>\n",
              "      <td>NaN</td>\n",
              "      <td>NaN</td>\n",
              "      <td>NaN</td>\n",
              "      <td>NaN</td>\n",
              "    </tr>\n",
              "    <tr>\n",
              "      <th>Backhoe_Mounting</th>\n",
              "      <td>NaN</td>\n",
              "      <td>NaN</td>\n",
              "      <td>NaN</td>\n",
              "      <td>NaN</td>\n",
              "      <td>NaN</td>\n",
              "    </tr>\n",
              "    <tr>\n",
              "      <th>Blade_Type</th>\n",
              "      <td>NaN</td>\n",
              "      <td>NaN</td>\n",
              "      <td>NaN</td>\n",
              "      <td>NaN</td>\n",
              "      <td>NaN</td>\n",
              "    </tr>\n",
              "    <tr>\n",
              "      <th>Travel_Controls</th>\n",
              "      <td>NaN</td>\n",
              "      <td>NaN</td>\n",
              "      <td>NaN</td>\n",
              "      <td>NaN</td>\n",
              "      <td>NaN</td>\n",
              "    </tr>\n",
              "    <tr>\n",
              "      <th>Differential_Type</th>\n",
              "      <td>Standard</td>\n",
              "      <td>Standard</td>\n",
              "      <td>NaN</td>\n",
              "      <td>NaN</td>\n",
              "      <td>NaN</td>\n",
              "    </tr>\n",
              "    <tr>\n",
              "      <th>Steering_Controls</th>\n",
              "      <td>Conventional</td>\n",
              "      <td>Conventional</td>\n",
              "      <td>NaN</td>\n",
              "      <td>NaN</td>\n",
              "      <td>NaN</td>\n",
              "    </tr>\n",
              "  </tbody>\n",
              "</table>\n",
              "</div>"
            ],
            "text/plain": [
              "                                                                 0  ...                                                  4\n",
              "SalesID                                                    1139246  ...                                            1139253\n",
              "SalePrice                                                    66000  ...                                              11000\n",
              "MachineID                                                   999089  ...                                            1057373\n",
              "ModelID                                                       3157  ...                                              17311\n",
              "datasource                                                     121  ...                                                121\n",
              "auctioneerID                                                     3  ...                                                  3\n",
              "YearMade                                                      2004  ...                                               2007\n",
              "MachineHoursCurrentMeter                                        68  ...                                                722\n",
              "UsageBand                                                      Low  ...                                             Medium\n",
              "saledate                                       2006-11-16 00:00:00  ...                                2009-07-23 00:00:00\n",
              "fiModelDesc                                                   521D  ...                                               S175\n",
              "fiBaseModel                                                    521  ...                                               S175\n",
              "fiSecondaryDesc                                                  D  ...                                                NaN\n",
              "fiModelSeries                                                  NaN  ...                                                NaN\n",
              "fiModelDescriptor                                              NaN  ...                                                NaN\n",
              "ProductSize                                                    NaN  ...                                                NaN\n",
              "fiProductClassDesc        Wheel Loader - 110.0 to 120.0 Horsepower  ...  Skid Steer Loader - 1601.0 to 1751.0 Lb Operat...\n",
              "state                                                      Alabama  ...                                           New York\n",
              "ProductGroup                                                    WL  ...                                                SSL\n",
              "ProductGroupDesc                                      Wheel Loader  ...                                 Skid Steer Loaders\n",
              "Drive_System                                                   NaN  ...                                                NaN\n",
              "Enclosure                                               EROPS w AC  ...                                              EROPS\n",
              "Forks                                          None or Unspecified  ...                                None or Unspecified\n",
              "Pad_Type                                                       NaN  ...                                                NaN\n",
              "Ride_Control                                   None or Unspecified  ...                                                NaN\n",
              "Stick                                                          NaN  ...                                                NaN\n",
              "Transmission                                                   NaN  ...                                                NaN\n",
              "Turbocharged                                                   NaN  ...                                                NaN\n",
              "Blade_Extension                                                NaN  ...                                                NaN\n",
              "Blade_Width                                                    NaN  ...                                                NaN\n",
              "Enclosure_Type                                                 NaN  ...                                                NaN\n",
              "Engine_Horsepower                                              NaN  ...                                                NaN\n",
              "Hydraulics                                                 2 Valve  ...                                          Auxiliary\n",
              "Pushblock                                                      NaN  ...                                                NaN\n",
              "Ripper                                                         NaN  ...                                                NaN\n",
              "Scarifier                                                      NaN  ...                                                NaN\n",
              "Tip_Control                                                    NaN  ...                                                NaN\n",
              "Tire_Size                                      None or Unspecified  ...                                                NaN\n",
              "Coupler                                        None or Unspecified  ...                                None or Unspecified\n",
              "Coupler_System                                                 NaN  ...                                None or Unspecified\n",
              "Grouser_Tracks                                                 NaN  ...                                None or Unspecified\n",
              "Hydraulics_Flow                                                NaN  ...                                           Standard\n",
              "Track_Type                                                     NaN  ...                                                NaN\n",
              "Undercarriage_Pad_Width                                        NaN  ...                                                NaN\n",
              "Stick_Length                                                   NaN  ...                                                NaN\n",
              "Thumb                                                          NaN  ...                                                NaN\n",
              "Pattern_Changer                                                NaN  ...                                                NaN\n",
              "Grouser_Type                                                   NaN  ...                                                NaN\n",
              "Backhoe_Mounting                                               NaN  ...                                                NaN\n",
              "Blade_Type                                                     NaN  ...                                                NaN\n",
              "Travel_Controls                                                NaN  ...                                                NaN\n",
              "Differential_Type                                         Standard  ...                                                NaN\n",
              "Steering_Controls                                     Conventional  ...                                                NaN\n",
              "\n",
              "[53 rows x 5 columns]"
            ]
          },
          "metadata": {
            "tags": []
          },
          "execution_count": 15
        }
      ]
    },
    {
      "cell_type": "markdown",
      "metadata": {
        "id": "tD0jqRLmph0I",
        "colab_type": "text"
      },
      "source": [
        "### Sort DataFrame by saledate\n",
        "When working with time series data, it's a good idea to sort it by date"
      ]
    },
    {
      "cell_type": "code",
      "metadata": {
        "id": "prVfjgnBosVk",
        "colab_type": "code",
        "colab": {
          "base_uri": "https://localhost:8080/",
          "height": 374
        },
        "outputId": "f2f56ad4-842d-4269-dd19-434673baefb1"
      },
      "source": [
        "# Sort DataFrame in date order\n",
        "df.sort_values(by=[\"saledate\"], inplace=True, ascending=True)\n",
        "df.saledate.head(20)"
      ],
      "execution_count": 16,
      "outputs": [
        {
          "output_type": "execute_result",
          "data": {
            "text/plain": [
              "205615   1989-01-17\n",
              "274835   1989-01-31\n",
              "141296   1989-01-31\n",
              "212552   1989-01-31\n",
              "62755    1989-01-31\n",
              "54653    1989-01-31\n",
              "81383    1989-01-31\n",
              "204924   1989-01-31\n",
              "135376   1989-01-31\n",
              "113390   1989-01-31\n",
              "113394   1989-01-31\n",
              "116419   1989-01-31\n",
              "32138    1989-01-31\n",
              "127610   1989-01-31\n",
              "76171    1989-01-31\n",
              "127000   1989-01-31\n",
              "128130   1989-01-31\n",
              "127626   1989-01-31\n",
              "55455    1989-01-31\n",
              "55454    1989-01-31\n",
              "Name: saledate, dtype: datetime64[ns]"
            ]
          },
          "metadata": {
            "tags": []
          },
          "execution_count": 16
        }
      ]
    },
    {
      "cell_type": "markdown",
      "metadata": {
        "id": "WBxm9Y6tqVhK",
        "colab_type": "text"
      },
      "source": [
        "### Make a copy of the original dataframe\n",
        "We are going to transform our original dataset, it's a good idea keep the original in case of mistakes or if we want to change from the begining something"
      ]
    },
    {
      "cell_type": "code",
      "metadata": {
        "id": "9Fc957COqCHc",
        "colab_type": "code",
        "colab": {}
      },
      "source": [
        "# Make a copy\n",
        "df_tmp = df.copy()"
      ],
      "execution_count": 0,
      "outputs": []
    },
    {
      "cell_type": "markdown",
      "metadata": {
        "id": "v3CZQSYTuMmK",
        "colab_type": "text"
      },
      "source": [
        "### Add datetime parameters for saledate column"
      ]
    },
    {
      "cell_type": "code",
      "metadata": {
        "id": "YOlylK5kq8I7",
        "colab_type": "code",
        "colab": {}
      },
      "source": [
        "df_tmp[\"saleYear\"] = df_tmp.saledate.dt.year\n",
        "df_tmp[\"saleMonth\"] = df_tmp.saledate.dt.month\n",
        "df_tmp[\"saleDay\"] = df_tmp.saledate.dt.day\n",
        "df_tmp[\"saleDayOfWeek\"] = df_tmp.saledate.dt.dayofweek"
      ],
      "execution_count": 0,
      "outputs": []
    },
    {
      "cell_type": "code",
      "metadata": {
        "id": "4GKpDX-IrDn4",
        "colab_type": "code",
        "colab": {}
      },
      "source": [
        "# Now we've enrich our DataFrame we can remove saledate\n",
        "df_tmp.drop(\"saledate\", axis=1, inplace=True)"
      ],
      "execution_count": 0,
      "outputs": []
    },
    {
      "cell_type": "code",
      "metadata": {
        "id": "kiGFtGfevd7m",
        "colab_type": "code",
        "colab": {
          "base_uri": "https://localhost:8080/",
          "height": 935
        },
        "outputId": "653d8752-c9bc-4e78-927f-aa527f55e933"
      },
      "source": [
        "# Check the values of different columns\n",
        "df_tmp.state.value_counts()"
      ],
      "execution_count": 20,
      "outputs": [
        {
          "output_type": "execute_result",
          "data": {
            "text/plain": [
              "Florida           67320\n",
              "Texas             53110\n",
              "California        29761\n",
              "Washington        16222\n",
              "Georgia           14633\n",
              "Maryland          13322\n",
              "Mississippi       13240\n",
              "Ohio              12369\n",
              "Illinois          11540\n",
              "Colorado          11529\n",
              "New Jersey        11156\n",
              "North Carolina    10636\n",
              "Tennessee         10298\n",
              "Alabama           10292\n",
              "Pennsylvania      10234\n",
              "South Carolina     9951\n",
              "Arizona            9364\n",
              "New York           8639\n",
              "Connecticut        8276\n",
              "Minnesota          7885\n",
              "Missouri           7178\n",
              "Nevada             6932\n",
              "Louisiana          6627\n",
              "Kentucky           5351\n",
              "Maine              5096\n",
              "Indiana            4124\n",
              "Arkansas           3933\n",
              "New Mexico         3631\n",
              "Utah               3046\n",
              "Unspecified        2801\n",
              "Wisconsin          2745\n",
              "New Hampshire      2738\n",
              "Virginia           2353\n",
              "Idaho              2025\n",
              "Oregon             1911\n",
              "Michigan           1831\n",
              "Wyoming            1672\n",
              "Iowa               1336\n",
              "Montana            1336\n",
              "Oklahoma           1326\n",
              "Nebraska            866\n",
              "West Virginia       840\n",
              "Kansas              667\n",
              "Delaware            510\n",
              "North Dakota        480\n",
              "Alaska              430\n",
              "Massachusetts       347\n",
              "Vermont             300\n",
              "South Dakota        244\n",
              "Hawaii              118\n",
              "Rhode Island         83\n",
              "Puerto Rico          42\n",
              "Washington DC         2\n",
              "Name: state, dtype: int64"
            ]
          },
          "metadata": {
            "tags": []
          },
          "execution_count": 20
        }
      ]
    },
    {
      "cell_type": "markdown",
      "metadata": {
        "id": "nnBhE_P7xymu",
        "colab_type": "text"
      },
      "source": [
        "## Modelling\n",
        "Let's start some model driven EDA\n"
      ]
    },
    {
      "cell_type": "code",
      "metadata": {
        "id": "29T2AEfUxniC",
        "colab_type": "code",
        "colab": {}
      },
      "source": [
        "# # Let's build a machine learning model\n",
        "# from sklearn.ensemble import RandomForestRegressor\n",
        "# model = RandomForestRegressor(n_jobs=-1, random_state=42) # n_jobs = -1 try to use all power\n",
        "# model.fit(df_tmp.drop(\"SalePrice\", axis=1), df_tmp[\"SalePrice\"])"
      ],
      "execution_count": 0,
      "outputs": []
    },
    {
      "cell_type": "code",
      "metadata": {
        "id": "jRXKJcLNzOr6",
        "colab_type": "code",
        "colab": {
          "base_uri": "https://localhost:8080/",
          "height": 1000
        },
        "outputId": "4eb341ab-9f6d-4716-a465-870ca622b505"
      },
      "source": [
        "df_tmp.info()"
      ],
      "execution_count": 22,
      "outputs": [
        {
          "output_type": "stream",
          "text": [
            "<class 'pandas.core.frame.DataFrame'>\n",
            "Int64Index: 412698 entries, 205615 to 409203\n",
            "Data columns (total 56 columns):\n",
            " #   Column                    Non-Null Count   Dtype  \n",
            "---  ------                    --------------   -----  \n",
            " 0   SalesID                   412698 non-null  int64  \n",
            " 1   SalePrice                 412698 non-null  float64\n",
            " 2   MachineID                 412698 non-null  int64  \n",
            " 3   ModelID                   412698 non-null  int64  \n",
            " 4   datasource                412698 non-null  int64  \n",
            " 5   auctioneerID              392562 non-null  float64\n",
            " 6   YearMade                  412698 non-null  int64  \n",
            " 7   MachineHoursCurrentMeter  147504 non-null  float64\n",
            " 8   UsageBand                 73670 non-null   object \n",
            " 9   fiModelDesc               412698 non-null  object \n",
            " 10  fiBaseModel               412698 non-null  object \n",
            " 11  fiSecondaryDesc           271971 non-null  object \n",
            " 12  fiModelSeries             58667 non-null   object \n",
            " 13  fiModelDescriptor         74816 non-null   object \n",
            " 14  ProductSize               196093 non-null  object \n",
            " 15  fiProductClassDesc        412698 non-null  object \n",
            " 16  state                     412698 non-null  object \n",
            " 17  ProductGroup              412698 non-null  object \n",
            " 18  ProductGroupDesc          412698 non-null  object \n",
            " 19  Drive_System              107087 non-null  object \n",
            " 20  Enclosure                 412364 non-null  object \n",
            " 21  Forks                     197715 non-null  object \n",
            " 22  Pad_Type                  81096 non-null   object \n",
            " 23  Ride_Control              152728 non-null  object \n",
            " 24  Stick                     81096 non-null   object \n",
            " 25  Transmission              188007 non-null  object \n",
            " 26  Turbocharged              81096 non-null   object \n",
            " 27  Blade_Extension           25983 non-null   object \n",
            " 28  Blade_Width               25983 non-null   object \n",
            " 29  Enclosure_Type            25983 non-null   object \n",
            " 30  Engine_Horsepower         25983 non-null   object \n",
            " 31  Hydraulics                330133 non-null  object \n",
            " 32  Pushblock                 25983 non-null   object \n",
            " 33  Ripper                    106945 non-null  object \n",
            " 34  Scarifier                 25994 non-null   object \n",
            " 35  Tip_Control               25983 non-null   object \n",
            " 36  Tire_Size                 97638 non-null   object \n",
            " 37  Coupler                   220679 non-null  object \n",
            " 38  Coupler_System            44974 non-null   object \n",
            " 39  Grouser_Tracks            44875 non-null   object \n",
            " 40  Hydraulics_Flow           44875 non-null   object \n",
            " 41  Track_Type                102193 non-null  object \n",
            " 42  Undercarriage_Pad_Width   102916 non-null  object \n",
            " 43  Stick_Length              102261 non-null  object \n",
            " 44  Thumb                     102332 non-null  object \n",
            " 45  Pattern_Changer           102261 non-null  object \n",
            " 46  Grouser_Type              102193 non-null  object \n",
            " 47  Backhoe_Mounting          80712 non-null   object \n",
            " 48  Blade_Type                81875 non-null   object \n",
            " 49  Travel_Controls           81877 non-null   object \n",
            " 50  Differential_Type         71564 non-null   object \n",
            " 51  Steering_Controls         71522 non-null   object \n",
            " 52  saleYear                  412698 non-null  int64  \n",
            " 53  saleMonth                 412698 non-null  int64  \n",
            " 54  saleDay                   412698 non-null  int64  \n",
            " 55  saleDayOfWeek             412698 non-null  int64  \n",
            "dtypes: float64(3), int64(9), object(44)\n",
            "memory usage: 179.5+ MB\n"
          ],
          "name": "stdout"
        }
      ]
    },
    {
      "cell_type": "markdown",
      "metadata": {
        "id": "071NQne90m5G",
        "colab_type": "text"
      },
      "source": [
        "We can't start modelling because we have missing values and some string / object ones. All values must be numeric and without missing data."
      ]
    },
    {
      "cell_type": "markdown",
      "metadata": {
        "id": "FEGdx8g507NO",
        "colab_type": "text"
      },
      "source": [
        "### Convert string into categories\n",
        "One way we can turn all of our data into numbers is by converting them into pandas categories.\n",
        "\n",
        "\n"
      ]
    },
    {
      "cell_type": "code",
      "metadata": {
        "id": "qyLxbOaazVh8",
        "colab_type": "code",
        "colab": {
          "base_uri": "https://localhost:8080/",
          "height": 34
        },
        "outputId": "080209f8-e3bd-4491-85f8-50332295ea04"
      },
      "source": [
        "pd.api.types.is_string_dtype(df_tmp[\"UsageBand\"])"
      ],
      "execution_count": 23,
      "outputs": [
        {
          "output_type": "execute_result",
          "data": {
            "text/plain": [
              "True"
            ]
          },
          "metadata": {
            "tags": []
          },
          "execution_count": 23
        }
      ]
    },
    {
      "cell_type": "code",
      "metadata": {
        "id": "EcP8FDvP2-bK",
        "colab_type": "code",
        "colab": {
          "base_uri": "https://localhost:8080/",
          "height": 765
        },
        "outputId": "189505c5-7907-4561-d574-15272a596849"
      },
      "source": [
        "# Find the columns which contains strings\n",
        "for label, content in df_tmp.items():\n",
        "  if pd.api.types.is_string_dtype(content):\n",
        "    print(label)"
      ],
      "execution_count": 24,
      "outputs": [
        {
          "output_type": "stream",
          "text": [
            "UsageBand\n",
            "fiModelDesc\n",
            "fiBaseModel\n",
            "fiSecondaryDesc\n",
            "fiModelSeries\n",
            "fiModelDescriptor\n",
            "ProductSize\n",
            "fiProductClassDesc\n",
            "state\n",
            "ProductGroup\n",
            "ProductGroupDesc\n",
            "Drive_System\n",
            "Enclosure\n",
            "Forks\n",
            "Pad_Type\n",
            "Ride_Control\n",
            "Stick\n",
            "Transmission\n",
            "Turbocharged\n",
            "Blade_Extension\n",
            "Blade_Width\n",
            "Enclosure_Type\n",
            "Engine_Horsepower\n",
            "Hydraulics\n",
            "Pushblock\n",
            "Ripper\n",
            "Scarifier\n",
            "Tip_Control\n",
            "Tire_Size\n",
            "Coupler\n",
            "Coupler_System\n",
            "Grouser_Tracks\n",
            "Hydraulics_Flow\n",
            "Track_Type\n",
            "Undercarriage_Pad_Width\n",
            "Stick_Length\n",
            "Thumb\n",
            "Pattern_Changer\n",
            "Grouser_Type\n",
            "Backhoe_Mounting\n",
            "Blade_Type\n",
            "Travel_Controls\n",
            "Differential_Type\n",
            "Steering_Controls\n"
          ],
          "name": "stdout"
        }
      ]
    },
    {
      "cell_type": "code",
      "metadata": {
        "id": "o3sB1CoA3eYo",
        "colab_type": "code",
        "colab": {
          "base_uri": "https://localhost:8080/",
          "height": 51
        },
        "outputId": "3889cd07-926c-4cd1-d744-02060dabed6b"
      },
      "source": [
        "# If you're wondering what df_tmp.items() does, here is an example\n",
        "random_dict = {\n",
        "    \"key1\": \"hello\",\n",
        "    \"key2\": \"world\"}\n",
        "for key, value in random_dict.items():\n",
        "  print(key, value)"
      ],
      "execution_count": 25,
      "outputs": [
        {
          "output_type": "stream",
          "text": [
            "key1 hello\n",
            "key2 world\n"
          ],
          "name": "stdout"
        }
      ]
    },
    {
      "cell_type": "code",
      "metadata": {
        "id": "0aUQ8pdW4WLF",
        "colab_type": "code",
        "colab": {}
      },
      "source": [
        "# This will turn all the string values into categories\n",
        "for label, content in df_tmp.items():\n",
        "  if pd.api.types.is_string_dtype(content):\n",
        "    df_tmp[label] = content.astype(\"category\").cat.as_ordered()"
      ],
      "execution_count": 0,
      "outputs": []
    },
    {
      "cell_type": "code",
      "metadata": {
        "id": "RHVKl91N5PGN",
        "colab_type": "code",
        "colab": {
          "base_uri": "https://localhost:8080/",
          "height": 1000
        },
        "outputId": "93daf38a-1563-494c-d222-10582f71499f"
      },
      "source": [
        "df_tmp.info()"
      ],
      "execution_count": 27,
      "outputs": [
        {
          "output_type": "stream",
          "text": [
            "<class 'pandas.core.frame.DataFrame'>\n",
            "Int64Index: 412698 entries, 205615 to 409203\n",
            "Data columns (total 56 columns):\n",
            " #   Column                    Non-Null Count   Dtype   \n",
            "---  ------                    --------------   -----   \n",
            " 0   SalesID                   412698 non-null  int64   \n",
            " 1   SalePrice                 412698 non-null  float64 \n",
            " 2   MachineID                 412698 non-null  int64   \n",
            " 3   ModelID                   412698 non-null  int64   \n",
            " 4   datasource                412698 non-null  int64   \n",
            " 5   auctioneerID              392562 non-null  float64 \n",
            " 6   YearMade                  412698 non-null  int64   \n",
            " 7   MachineHoursCurrentMeter  147504 non-null  float64 \n",
            " 8   UsageBand                 73670 non-null   category\n",
            " 9   fiModelDesc               412698 non-null  category\n",
            " 10  fiBaseModel               412698 non-null  category\n",
            " 11  fiSecondaryDesc           271971 non-null  category\n",
            " 12  fiModelSeries             58667 non-null   category\n",
            " 13  fiModelDescriptor         74816 non-null   category\n",
            " 14  ProductSize               196093 non-null  category\n",
            " 15  fiProductClassDesc        412698 non-null  category\n",
            " 16  state                     412698 non-null  category\n",
            " 17  ProductGroup              412698 non-null  category\n",
            " 18  ProductGroupDesc          412698 non-null  category\n",
            " 19  Drive_System              107087 non-null  category\n",
            " 20  Enclosure                 412364 non-null  category\n",
            " 21  Forks                     197715 non-null  category\n",
            " 22  Pad_Type                  81096 non-null   category\n",
            " 23  Ride_Control              152728 non-null  category\n",
            " 24  Stick                     81096 non-null   category\n",
            " 25  Transmission              188007 non-null  category\n",
            " 26  Turbocharged              81096 non-null   category\n",
            " 27  Blade_Extension           25983 non-null   category\n",
            " 28  Blade_Width               25983 non-null   category\n",
            " 29  Enclosure_Type            25983 non-null   category\n",
            " 30  Engine_Horsepower         25983 non-null   category\n",
            " 31  Hydraulics                330133 non-null  category\n",
            " 32  Pushblock                 25983 non-null   category\n",
            " 33  Ripper                    106945 non-null  category\n",
            " 34  Scarifier                 25994 non-null   category\n",
            " 35  Tip_Control               25983 non-null   category\n",
            " 36  Tire_Size                 97638 non-null   category\n",
            " 37  Coupler                   220679 non-null  category\n",
            " 38  Coupler_System            44974 non-null   category\n",
            " 39  Grouser_Tracks            44875 non-null   category\n",
            " 40  Hydraulics_Flow           44875 non-null   category\n",
            " 41  Track_Type                102193 non-null  category\n",
            " 42  Undercarriage_Pad_Width   102916 non-null  category\n",
            " 43  Stick_Length              102261 non-null  category\n",
            " 44  Thumb                     102332 non-null  category\n",
            " 45  Pattern_Changer           102261 non-null  category\n",
            " 46  Grouser_Type              102193 non-null  category\n",
            " 47  Backhoe_Mounting          80712 non-null   category\n",
            " 48  Blade_Type                81875 non-null   category\n",
            " 49  Travel_Controls           81877 non-null   category\n",
            " 50  Differential_Type         71564 non-null   category\n",
            " 51  Steering_Controls         71522 non-null   category\n",
            " 52  saleYear                  412698 non-null  int64   \n",
            " 53  saleMonth                 412698 non-null  int64   \n",
            " 54  saleDay                   412698 non-null  int64   \n",
            " 55  saleDayOfWeek             412698 non-null  int64   \n",
            "dtypes: category(44), float64(3), int64(9)\n",
            "memory usage: 60.1 MB\n"
          ],
          "name": "stdout"
        }
      ]
    },
    {
      "cell_type": "code",
      "metadata": {
        "id": "aeEF-BPO5Sjc",
        "colab_type": "code",
        "colab": {
          "base_uri": "https://localhost:8080/",
          "height": 221
        },
        "outputId": "5e443ecf-8370-4253-bca8-08963b278d73"
      },
      "source": [
        "df_tmp.state.cat.categories"
      ],
      "execution_count": 28,
      "outputs": [
        {
          "output_type": "execute_result",
          "data": {
            "text/plain": [
              "Index(['Alabama', 'Alaska', 'Arizona', 'Arkansas', 'California', 'Colorado',\n",
              "       'Connecticut', 'Delaware', 'Florida', 'Georgia', 'Hawaii', 'Idaho',\n",
              "       'Illinois', 'Indiana', 'Iowa', 'Kansas', 'Kentucky', 'Louisiana',\n",
              "       'Maine', 'Maryland', 'Massachusetts', 'Michigan', 'Minnesota',\n",
              "       'Mississippi', 'Missouri', 'Montana', 'Nebraska', 'Nevada',\n",
              "       'New Hampshire', 'New Jersey', 'New Mexico', 'New York',\n",
              "       'North Carolina', 'North Dakota', 'Ohio', 'Oklahoma', 'Oregon',\n",
              "       'Pennsylvania', 'Puerto Rico', 'Rhode Island', 'South Carolina',\n",
              "       'South Dakota', 'Tennessee', 'Texas', 'Unspecified', 'Utah', 'Vermont',\n",
              "       'Virginia', 'Washington', 'Washington DC', 'West Virginia', 'Wisconsin',\n",
              "       'Wyoming'],\n",
              "      dtype='object')"
            ]
          },
          "metadata": {
            "tags": []
          },
          "execution_count": 28
        }
      ]
    },
    {
      "cell_type": "code",
      "metadata": {
        "id": "kygfHcYY6Blq",
        "colab_type": "code",
        "colab": {
          "base_uri": "https://localhost:8080/",
          "height": 221
        },
        "outputId": "ec2804e3-a183-45c0-fd8c-ef160f6b581e"
      },
      "source": [
        "df_tmp.state.cat.codes"
      ],
      "execution_count": 29,
      "outputs": [
        {
          "output_type": "execute_result",
          "data": {
            "text/plain": [
              "205615    43\n",
              "274835     8\n",
              "141296     8\n",
              "212552     8\n",
              "62755      8\n",
              "          ..\n",
              "410879     4\n",
              "412476     4\n",
              "411927     4\n",
              "407124     4\n",
              "409203     4\n",
              "Length: 412698, dtype: int8"
            ]
          },
          "metadata": {
            "tags": []
          },
          "execution_count": 29
        }
      ]
    },
    {
      "cell_type": "markdown",
      "metadata": {
        "id": "kUSimIo46haA",
        "colab_type": "text"
      },
      "source": [
        "Thanks to pandas categories we have all our data as numbers. But still we have a bunch of missing data."
      ]
    },
    {
      "cell_type": "code",
      "metadata": {
        "id": "2aKRaTbn6UeG",
        "colab_type": "code",
        "colab": {
          "base_uri": "https://localhost:8080/",
          "height": 986
        },
        "outputId": "0f986e38-59f7-460d-ee98-28dbe6b92452"
      },
      "source": [
        "# Check missing data\n",
        "df_tmp.isna().sum() / len(df_tmp) # Obtain the percentage of missing data by column"
      ],
      "execution_count": 30,
      "outputs": [
        {
          "output_type": "execute_result",
          "data": {
            "text/plain": [
              "SalesID                     0.000000\n",
              "SalePrice                   0.000000\n",
              "MachineID                   0.000000\n",
              "ModelID                     0.000000\n",
              "datasource                  0.000000\n",
              "auctioneerID                0.048791\n",
              "YearMade                    0.000000\n",
              "MachineHoursCurrentMeter    0.642586\n",
              "UsageBand                   0.821492\n",
              "fiModelDesc                 0.000000\n",
              "fiBaseModel                 0.000000\n",
              "fiSecondaryDesc             0.340993\n",
              "fiModelSeries               0.857845\n",
              "fiModelDescriptor           0.818715\n",
              "ProductSize                 0.524851\n",
              "fiProductClassDesc          0.000000\n",
              "state                       0.000000\n",
              "ProductGroup                0.000000\n",
              "ProductGroupDesc            0.000000\n",
              "Drive_System                0.740520\n",
              "Enclosure                   0.000809\n",
              "Forks                       0.520921\n",
              "Pad_Type                    0.803498\n",
              "Ride_Control                0.629928\n",
              "Stick                       0.803498\n",
              "Transmission                0.544444\n",
              "Turbocharged                0.803498\n",
              "Blade_Extension             0.937041\n",
              "Blade_Width                 0.937041\n",
              "Enclosure_Type              0.937041\n",
              "Engine_Horsepower           0.937041\n",
              "Hydraulics                  0.200062\n",
              "Pushblock                   0.937041\n",
              "Ripper                      0.740864\n",
              "Scarifier                   0.937014\n",
              "Tip_Control                 0.937041\n",
              "Tire_Size                   0.763415\n",
              "Coupler                     0.465277\n",
              "Coupler_System              0.891024\n",
              "Grouser_Tracks              0.891264\n",
              "Hydraulics_Flow             0.891264\n",
              "Track_Type                  0.752378\n",
              "Undercarriage_Pad_Width     0.750626\n",
              "Stick_Length                0.752213\n",
              "Thumb                       0.752041\n",
              "Pattern_Changer             0.752213\n",
              "Grouser_Type                0.752378\n",
              "Backhoe_Mounting            0.804428\n",
              "Blade_Type                  0.801610\n",
              "Travel_Controls             0.801606\n",
              "Differential_Type           0.826595\n",
              "Steering_Controls           0.826697\n",
              "saleYear                    0.000000\n",
              "saleMonth                   0.000000\n",
              "saleDay                     0.000000\n",
              "saleDayOfWeek               0.000000\n",
              "dtype: float64"
            ]
          },
          "metadata": {
            "tags": []
          },
          "execution_count": 30
        }
      ]
    },
    {
      "cell_type": "markdown",
      "metadata": {
        "id": "TbQ-j97r84jM",
        "colab_type": "text"
      },
      "source": [
        "### Save preprocessed data"
      ]
    },
    {
      "cell_type": "code",
      "metadata": {
        "id": "-o-lHlr38fwd",
        "colab_type": "code",
        "colab": {}
      },
      "source": [
        "# Export current tmp dataframe\n",
        "df_tmp.to_csv(\"/content/drive/My Drive/courses/udemy_mlztm/data/bluebook-for-bulldozers/train_tmp.csv\", index=False)"
      ],
      "execution_count": 0,
      "outputs": []
    },
    {
      "cell_type": "code",
      "metadata": {
        "id": "v16aUGEP9Yjb",
        "colab_type": "code",
        "colab": {
          "base_uri": "https://localhost:8080/",
          "height": 360
        },
        "outputId": "a81944fc-520d-4f77-9de4-545fbb70051f"
      },
      "source": [
        "# Import preprocessed data\n",
        "df_tmp = pd.read_csv(\"/content/drive/My Drive/courses/udemy_mlztm/data/bluebook-for-bulldozers/train_tmp.csv\", low_memory=False)\n",
        "df_tmp.head()"
      ],
      "execution_count": 32,
      "outputs": [
        {
          "output_type": "execute_result",
          "data": {
            "text/html": [
              "<div>\n",
              "<style scoped>\n",
              "    .dataframe tbody tr th:only-of-type {\n",
              "        vertical-align: middle;\n",
              "    }\n",
              "\n",
              "    .dataframe tbody tr th {\n",
              "        vertical-align: top;\n",
              "    }\n",
              "\n",
              "    .dataframe thead th {\n",
              "        text-align: right;\n",
              "    }\n",
              "</style>\n",
              "<table border=\"1\" class=\"dataframe\">\n",
              "  <thead>\n",
              "    <tr style=\"text-align: right;\">\n",
              "      <th></th>\n",
              "      <th>SalesID</th>\n",
              "      <th>SalePrice</th>\n",
              "      <th>MachineID</th>\n",
              "      <th>ModelID</th>\n",
              "      <th>datasource</th>\n",
              "      <th>auctioneerID</th>\n",
              "      <th>YearMade</th>\n",
              "      <th>MachineHoursCurrentMeter</th>\n",
              "      <th>UsageBand</th>\n",
              "      <th>fiModelDesc</th>\n",
              "      <th>fiBaseModel</th>\n",
              "      <th>fiSecondaryDesc</th>\n",
              "      <th>fiModelSeries</th>\n",
              "      <th>fiModelDescriptor</th>\n",
              "      <th>ProductSize</th>\n",
              "      <th>fiProductClassDesc</th>\n",
              "      <th>state</th>\n",
              "      <th>ProductGroup</th>\n",
              "      <th>ProductGroupDesc</th>\n",
              "      <th>Drive_System</th>\n",
              "      <th>Enclosure</th>\n",
              "      <th>Forks</th>\n",
              "      <th>Pad_Type</th>\n",
              "      <th>Ride_Control</th>\n",
              "      <th>Stick</th>\n",
              "      <th>Transmission</th>\n",
              "      <th>Turbocharged</th>\n",
              "      <th>Blade_Extension</th>\n",
              "      <th>Blade_Width</th>\n",
              "      <th>Enclosure_Type</th>\n",
              "      <th>Engine_Horsepower</th>\n",
              "      <th>Hydraulics</th>\n",
              "      <th>Pushblock</th>\n",
              "      <th>Ripper</th>\n",
              "      <th>Scarifier</th>\n",
              "      <th>Tip_Control</th>\n",
              "      <th>Tire_Size</th>\n",
              "      <th>Coupler</th>\n",
              "      <th>Coupler_System</th>\n",
              "      <th>Grouser_Tracks</th>\n",
              "      <th>Hydraulics_Flow</th>\n",
              "      <th>Track_Type</th>\n",
              "      <th>Undercarriage_Pad_Width</th>\n",
              "      <th>Stick_Length</th>\n",
              "      <th>Thumb</th>\n",
              "      <th>Pattern_Changer</th>\n",
              "      <th>Grouser_Type</th>\n",
              "      <th>Backhoe_Mounting</th>\n",
              "      <th>Blade_Type</th>\n",
              "      <th>Travel_Controls</th>\n",
              "      <th>Differential_Type</th>\n",
              "      <th>Steering_Controls</th>\n",
              "      <th>saleYear</th>\n",
              "      <th>saleMonth</th>\n",
              "      <th>saleDay</th>\n",
              "      <th>saleDayOfWeek</th>\n",
              "    </tr>\n",
              "  </thead>\n",
              "  <tbody>\n",
              "    <tr>\n",
              "      <th>0</th>\n",
              "      <td>1646770</td>\n",
              "      <td>9500.0</td>\n",
              "      <td>1126363</td>\n",
              "      <td>8434</td>\n",
              "      <td>132</td>\n",
              "      <td>18.0</td>\n",
              "      <td>1974</td>\n",
              "      <td>NaN</td>\n",
              "      <td>NaN</td>\n",
              "      <td>TD20</td>\n",
              "      <td>TD20</td>\n",
              "      <td>NaN</td>\n",
              "      <td>NaN</td>\n",
              "      <td>NaN</td>\n",
              "      <td>Medium</td>\n",
              "      <td>Track Type Tractor, Dozer - 105.0 to 130.0 Hor...</td>\n",
              "      <td>Texas</td>\n",
              "      <td>TTT</td>\n",
              "      <td>Track Type Tractors</td>\n",
              "      <td>NaN</td>\n",
              "      <td>OROPS</td>\n",
              "      <td>NaN</td>\n",
              "      <td>NaN</td>\n",
              "      <td>NaN</td>\n",
              "      <td>NaN</td>\n",
              "      <td>Direct Drive</td>\n",
              "      <td>NaN</td>\n",
              "      <td>NaN</td>\n",
              "      <td>NaN</td>\n",
              "      <td>NaN</td>\n",
              "      <td>NaN</td>\n",
              "      <td>2 Valve</td>\n",
              "      <td>NaN</td>\n",
              "      <td>None or Unspecified</td>\n",
              "      <td>NaN</td>\n",
              "      <td>NaN</td>\n",
              "      <td>NaN</td>\n",
              "      <td>NaN</td>\n",
              "      <td>NaN</td>\n",
              "      <td>NaN</td>\n",
              "      <td>NaN</td>\n",
              "      <td>NaN</td>\n",
              "      <td>NaN</td>\n",
              "      <td>NaN</td>\n",
              "      <td>NaN</td>\n",
              "      <td>NaN</td>\n",
              "      <td>NaN</td>\n",
              "      <td>None or Unspecified</td>\n",
              "      <td>Straight</td>\n",
              "      <td>None or Unspecified</td>\n",
              "      <td>NaN</td>\n",
              "      <td>NaN</td>\n",
              "      <td>1989</td>\n",
              "      <td>1</td>\n",
              "      <td>17</td>\n",
              "      <td>1</td>\n",
              "    </tr>\n",
              "    <tr>\n",
              "      <th>1</th>\n",
              "      <td>1821514</td>\n",
              "      <td>14000.0</td>\n",
              "      <td>1194089</td>\n",
              "      <td>10150</td>\n",
              "      <td>132</td>\n",
              "      <td>99.0</td>\n",
              "      <td>1980</td>\n",
              "      <td>NaN</td>\n",
              "      <td>NaN</td>\n",
              "      <td>A66</td>\n",
              "      <td>A66</td>\n",
              "      <td>NaN</td>\n",
              "      <td>NaN</td>\n",
              "      <td>NaN</td>\n",
              "      <td>NaN</td>\n",
              "      <td>Wheel Loader - 120.0 to 135.0 Horsepower</td>\n",
              "      <td>Florida</td>\n",
              "      <td>WL</td>\n",
              "      <td>Wheel Loader</td>\n",
              "      <td>NaN</td>\n",
              "      <td>OROPS</td>\n",
              "      <td>None or Unspecified</td>\n",
              "      <td>NaN</td>\n",
              "      <td>None or Unspecified</td>\n",
              "      <td>NaN</td>\n",
              "      <td>NaN</td>\n",
              "      <td>NaN</td>\n",
              "      <td>NaN</td>\n",
              "      <td>NaN</td>\n",
              "      <td>NaN</td>\n",
              "      <td>NaN</td>\n",
              "      <td>2 Valve</td>\n",
              "      <td>NaN</td>\n",
              "      <td>NaN</td>\n",
              "      <td>NaN</td>\n",
              "      <td>NaN</td>\n",
              "      <td>None or Unspecified</td>\n",
              "      <td>None or Unspecified</td>\n",
              "      <td>NaN</td>\n",
              "      <td>NaN</td>\n",
              "      <td>NaN</td>\n",
              "      <td>NaN</td>\n",
              "      <td>NaN</td>\n",
              "      <td>NaN</td>\n",
              "      <td>NaN</td>\n",
              "      <td>NaN</td>\n",
              "      <td>NaN</td>\n",
              "      <td>NaN</td>\n",
              "      <td>NaN</td>\n",
              "      <td>NaN</td>\n",
              "      <td>Standard</td>\n",
              "      <td>Conventional</td>\n",
              "      <td>1989</td>\n",
              "      <td>1</td>\n",
              "      <td>31</td>\n",
              "      <td>1</td>\n",
              "    </tr>\n",
              "    <tr>\n",
              "      <th>2</th>\n",
              "      <td>1505138</td>\n",
              "      <td>50000.0</td>\n",
              "      <td>1473654</td>\n",
              "      <td>4139</td>\n",
              "      <td>132</td>\n",
              "      <td>99.0</td>\n",
              "      <td>1978</td>\n",
              "      <td>NaN</td>\n",
              "      <td>NaN</td>\n",
              "      <td>D7G</td>\n",
              "      <td>D7</td>\n",
              "      <td>G</td>\n",
              "      <td>NaN</td>\n",
              "      <td>NaN</td>\n",
              "      <td>Large</td>\n",
              "      <td>Track Type Tractor, Dozer - 190.0 to 260.0 Hor...</td>\n",
              "      <td>Florida</td>\n",
              "      <td>TTT</td>\n",
              "      <td>Track Type Tractors</td>\n",
              "      <td>NaN</td>\n",
              "      <td>OROPS</td>\n",
              "      <td>NaN</td>\n",
              "      <td>NaN</td>\n",
              "      <td>NaN</td>\n",
              "      <td>NaN</td>\n",
              "      <td>Standard</td>\n",
              "      <td>NaN</td>\n",
              "      <td>NaN</td>\n",
              "      <td>NaN</td>\n",
              "      <td>NaN</td>\n",
              "      <td>NaN</td>\n",
              "      <td>2 Valve</td>\n",
              "      <td>NaN</td>\n",
              "      <td>None or Unspecified</td>\n",
              "      <td>NaN</td>\n",
              "      <td>NaN</td>\n",
              "      <td>NaN</td>\n",
              "      <td>NaN</td>\n",
              "      <td>NaN</td>\n",
              "      <td>NaN</td>\n",
              "      <td>NaN</td>\n",
              "      <td>NaN</td>\n",
              "      <td>NaN</td>\n",
              "      <td>NaN</td>\n",
              "      <td>NaN</td>\n",
              "      <td>NaN</td>\n",
              "      <td>NaN</td>\n",
              "      <td>None or Unspecified</td>\n",
              "      <td>Straight</td>\n",
              "      <td>None or Unspecified</td>\n",
              "      <td>NaN</td>\n",
              "      <td>NaN</td>\n",
              "      <td>1989</td>\n",
              "      <td>1</td>\n",
              "      <td>31</td>\n",
              "      <td>1</td>\n",
              "    </tr>\n",
              "    <tr>\n",
              "      <th>3</th>\n",
              "      <td>1671174</td>\n",
              "      <td>16000.0</td>\n",
              "      <td>1327630</td>\n",
              "      <td>8591</td>\n",
              "      <td>132</td>\n",
              "      <td>99.0</td>\n",
              "      <td>1980</td>\n",
              "      <td>NaN</td>\n",
              "      <td>NaN</td>\n",
              "      <td>A62</td>\n",
              "      <td>A62</td>\n",
              "      <td>NaN</td>\n",
              "      <td>NaN</td>\n",
              "      <td>NaN</td>\n",
              "      <td>NaN</td>\n",
              "      <td>Wheel Loader - Unidentified</td>\n",
              "      <td>Florida</td>\n",
              "      <td>WL</td>\n",
              "      <td>Wheel Loader</td>\n",
              "      <td>NaN</td>\n",
              "      <td>EROPS</td>\n",
              "      <td>None or Unspecified</td>\n",
              "      <td>NaN</td>\n",
              "      <td>None or Unspecified</td>\n",
              "      <td>NaN</td>\n",
              "      <td>NaN</td>\n",
              "      <td>NaN</td>\n",
              "      <td>NaN</td>\n",
              "      <td>NaN</td>\n",
              "      <td>NaN</td>\n",
              "      <td>NaN</td>\n",
              "      <td>2 Valve</td>\n",
              "      <td>NaN</td>\n",
              "      <td>NaN</td>\n",
              "      <td>NaN</td>\n",
              "      <td>NaN</td>\n",
              "      <td>None or Unspecified</td>\n",
              "      <td>None or Unspecified</td>\n",
              "      <td>NaN</td>\n",
              "      <td>NaN</td>\n",
              "      <td>NaN</td>\n",
              "      <td>NaN</td>\n",
              "      <td>NaN</td>\n",
              "      <td>NaN</td>\n",
              "      <td>NaN</td>\n",
              "      <td>NaN</td>\n",
              "      <td>NaN</td>\n",
              "      <td>NaN</td>\n",
              "      <td>NaN</td>\n",
              "      <td>NaN</td>\n",
              "      <td>Standard</td>\n",
              "      <td>Conventional</td>\n",
              "      <td>1989</td>\n",
              "      <td>1</td>\n",
              "      <td>31</td>\n",
              "      <td>1</td>\n",
              "    </tr>\n",
              "    <tr>\n",
              "      <th>4</th>\n",
              "      <td>1329056</td>\n",
              "      <td>22000.0</td>\n",
              "      <td>1336053</td>\n",
              "      <td>4089</td>\n",
              "      <td>132</td>\n",
              "      <td>99.0</td>\n",
              "      <td>1984</td>\n",
              "      <td>NaN</td>\n",
              "      <td>NaN</td>\n",
              "      <td>D3B</td>\n",
              "      <td>D3</td>\n",
              "      <td>B</td>\n",
              "      <td>NaN</td>\n",
              "      <td>NaN</td>\n",
              "      <td>NaN</td>\n",
              "      <td>Track Type Tractor, Dozer - 20.0 to 75.0 Horse...</td>\n",
              "      <td>Florida</td>\n",
              "      <td>TTT</td>\n",
              "      <td>Track Type Tractors</td>\n",
              "      <td>NaN</td>\n",
              "      <td>OROPS</td>\n",
              "      <td>NaN</td>\n",
              "      <td>NaN</td>\n",
              "      <td>NaN</td>\n",
              "      <td>NaN</td>\n",
              "      <td>Standard</td>\n",
              "      <td>NaN</td>\n",
              "      <td>NaN</td>\n",
              "      <td>NaN</td>\n",
              "      <td>NaN</td>\n",
              "      <td>NaN</td>\n",
              "      <td>2 Valve</td>\n",
              "      <td>NaN</td>\n",
              "      <td>None or Unspecified</td>\n",
              "      <td>NaN</td>\n",
              "      <td>NaN</td>\n",
              "      <td>NaN</td>\n",
              "      <td>NaN</td>\n",
              "      <td>NaN</td>\n",
              "      <td>NaN</td>\n",
              "      <td>NaN</td>\n",
              "      <td>NaN</td>\n",
              "      <td>NaN</td>\n",
              "      <td>NaN</td>\n",
              "      <td>NaN</td>\n",
              "      <td>NaN</td>\n",
              "      <td>NaN</td>\n",
              "      <td>None or Unspecified</td>\n",
              "      <td>PAT</td>\n",
              "      <td>Lever</td>\n",
              "      <td>NaN</td>\n",
              "      <td>NaN</td>\n",
              "      <td>1989</td>\n",
              "      <td>1</td>\n",
              "      <td>31</td>\n",
              "      <td>1</td>\n",
              "    </tr>\n",
              "  </tbody>\n",
              "</table>\n",
              "</div>"
            ],
            "text/plain": [
              "   SalesID  SalePrice  MachineID  ...  saleMonth  saleDay  saleDayOfWeek\n",
              "0  1646770     9500.0    1126363  ...          1       17              1\n",
              "1  1821514    14000.0    1194089  ...          1       31              1\n",
              "2  1505138    50000.0    1473654  ...          1       31              1\n",
              "3  1671174    16000.0    1327630  ...          1       31              1\n",
              "4  1329056    22000.0    1336053  ...          1       31              1\n",
              "\n",
              "[5 rows x 56 columns]"
            ]
          },
          "metadata": {
            "tags": []
          },
          "execution_count": 32
        }
      ]
    },
    {
      "cell_type": "markdown",
      "metadata": {
        "id": "swW1mqbk-2KG",
        "colab_type": "text"
      },
      "source": [
        "### Fill numeric missing values first"
      ]
    },
    {
      "cell_type": "code",
      "metadata": {
        "id": "RJ-q2166-RWY",
        "colab_type": "code",
        "colab": {
          "base_uri": "https://localhost:8080/",
          "height": 221
        },
        "outputId": "bb3329d5-0fb6-4d5a-dfb9-0f2ce299b5c2"
      },
      "source": [
        "# Wich columns are numeric?\n",
        "for label, content in df_tmp.items():\n",
        "  if pd.api.types.is_numeric_dtype(content):\n",
        "    print(label)"
      ],
      "execution_count": 33,
      "outputs": [
        {
          "output_type": "stream",
          "text": [
            "SalesID\n",
            "SalePrice\n",
            "MachineID\n",
            "ModelID\n",
            "datasource\n",
            "auctioneerID\n",
            "YearMade\n",
            "MachineHoursCurrentMeter\n",
            "saleYear\n",
            "saleMonth\n",
            "saleDay\n",
            "saleDayOfWeek\n"
          ],
          "name": "stdout"
        }
      ]
    },
    {
      "cell_type": "code",
      "metadata": {
        "id": "L1GFqXBk_jxV",
        "colab_type": "code",
        "colab": {
          "base_uri": "https://localhost:8080/",
          "height": 51
        },
        "outputId": "a91855d4-1779-4729-f4e6-5834118c5544"
      },
      "source": [
        "# Check for wich numeric columns have null labels\n",
        "for label, content in df_tmp.items():\n",
        "  if pd.api.types.is_numeric_dtype(content):\n",
        "    if pd.isnull(content).sum():\n",
        "      print(label)"
      ],
      "execution_count": 34,
      "outputs": [
        {
          "output_type": "stream",
          "text": [
            "auctioneerID\n",
            "MachineHoursCurrentMeter\n"
          ],
          "name": "stdout"
        }
      ]
    },
    {
      "cell_type": "code",
      "metadata": {
        "id": "FkTBaX0PAPby",
        "colab_type": "code",
        "colab": {}
      },
      "source": [
        "# Fill numeric rows with the median\n",
        "for label, content in df_tmp.items():\n",
        "  if pd.api.types.is_numeric_dtype(content):\n",
        "    if pd.isnull(content).sum():\n",
        "      # Add a binary column whic tell us if the data was missing values\n",
        "      df_tmp[label + \"_is_missing\"] = pd.isnull(content)\n",
        "      # Fill missing numeric values with the median\n",
        "      df_tmp[label] = content.fillna(content.median())"
      ],
      "execution_count": 0,
      "outputs": []
    },
    {
      "cell_type": "code",
      "metadata": {
        "id": "KlaOd9KzBYH2",
        "colab_type": "code",
        "colab": {
          "base_uri": "https://localhost:8080/",
          "height": 34
        },
        "outputId": "42da00d4-10d7-4671-ec36-f56573dee32f"
      },
      "source": [
        "# Demostrate hoe median is more robust than mean\n",
        "hundreds = np.full((1000,), 100)\n",
        "hundreds_billion = np.append(hundreds, 1000000000)\n",
        "np.mean(hundreds), np.mean(hundreds_billion), np.median(hundreds), np.median(hundreds_billion)"
      ],
      "execution_count": 36,
      "outputs": [
        {
          "output_type": "execute_result",
          "data": {
            "text/plain": [
              "(100.0, 999100.8991008991, 100.0, 100.0)"
            ]
          },
          "metadata": {
            "tags": []
          },
          "execution_count": 36
        }
      ]
    },
    {
      "cell_type": "code",
      "metadata": {
        "id": "OzICuymDBdc3",
        "colab_type": "code",
        "colab": {}
      },
      "source": [
        "# Check if there's any null numeric values\n",
        "for label, content in df_tmp.items():\n",
        "  if pd.api.types.is_numeric_dtype(content):\n",
        "    if pd.isnull(content).sum():\n",
        "      print(label)"
      ],
      "execution_count": 0,
      "outputs": []
    },
    {
      "cell_type": "code",
      "metadata": {
        "id": "ATkmCBbLMA6z",
        "colab_type": "code",
        "colab": {
          "base_uri": "https://localhost:8080/",
          "height": 68
        },
        "outputId": "29ef959a-f646-43af-adce-d3a31469fa7d"
      },
      "source": [
        "# Check how many examples were null\n",
        "df_tmp.auctioneerID_is_missing.value_counts()"
      ],
      "execution_count": 38,
      "outputs": [
        {
          "output_type": "execute_result",
          "data": {
            "text/plain": [
              "False    392562\n",
              "True      20136\n",
              "Name: auctioneerID_is_missing, dtype: int64"
            ]
          },
          "metadata": {
            "tags": []
          },
          "execution_count": 38
        }
      ]
    },
    {
      "cell_type": "markdown",
      "metadata": {
        "id": "VVAGTri_MjcZ",
        "colab_type": "text"
      },
      "source": [
        "### Fill categorical missing values"
      ]
    },
    {
      "cell_type": "code",
      "metadata": {
        "id": "ejnNv8cgMUgg",
        "colab_type": "code",
        "colab": {
          "base_uri": "https://localhost:8080/",
          "height": 765
        },
        "outputId": "07ac5e30-da5c-480d-8e0e-044ce98d7137"
      },
      "source": [
        "# Check for columns whic aren't numeric\n",
        "for label, content in df_tmp.items():\n",
        "  if not pd.api.types.is_numeric_dtype(content):\n",
        "    print(label)\n"
      ],
      "execution_count": 39,
      "outputs": [
        {
          "output_type": "stream",
          "text": [
            "UsageBand\n",
            "fiModelDesc\n",
            "fiBaseModel\n",
            "fiSecondaryDesc\n",
            "fiModelSeries\n",
            "fiModelDescriptor\n",
            "ProductSize\n",
            "fiProductClassDesc\n",
            "state\n",
            "ProductGroup\n",
            "ProductGroupDesc\n",
            "Drive_System\n",
            "Enclosure\n",
            "Forks\n",
            "Pad_Type\n",
            "Ride_Control\n",
            "Stick\n",
            "Transmission\n",
            "Turbocharged\n",
            "Blade_Extension\n",
            "Blade_Width\n",
            "Enclosure_Type\n",
            "Engine_Horsepower\n",
            "Hydraulics\n",
            "Pushblock\n",
            "Ripper\n",
            "Scarifier\n",
            "Tip_Control\n",
            "Tire_Size\n",
            "Coupler\n",
            "Coupler_System\n",
            "Grouser_Tracks\n",
            "Hydraulics_Flow\n",
            "Track_Type\n",
            "Undercarriage_Pad_Width\n",
            "Stick_Length\n",
            "Thumb\n",
            "Pattern_Changer\n",
            "Grouser_Type\n",
            "Backhoe_Mounting\n",
            "Blade_Type\n",
            "Travel_Controls\n",
            "Differential_Type\n",
            "Steering_Controls\n"
          ],
          "name": "stdout"
        }
      ]
    },
    {
      "cell_type": "code",
      "metadata": {
        "id": "b6sQm41GNCvt",
        "colab_type": "code",
        "colab": {}
      },
      "source": [
        "# Turn categorical variables into numbers and fill missing\n",
        "for label, content in df_tmp.items():\n",
        "  if not pd.api.types.is_numeric_dtype(content):\n",
        "    # Add binary column indicate whether sample had a missin value\n",
        "    df_tmp[label+\"_is_missing\"] = pd.isnull(content)\n",
        "    # Turn categories into numbers and add + 1\n",
        "    df_tmp[label] = pd.Categorical(content).codes + 1 # this is because when a value is missing its code is -1 [content.astype(\"category\").cat.as_ordered()]"
      ],
      "execution_count": 0,
      "outputs": []
    },
    {
      "cell_type": "code",
      "metadata": {
        "id": "m5vzwCJzPC_F",
        "colab_type": "code",
        "colab": {
          "base_uri": "https://localhost:8080/",
          "height": 102
        },
        "outputId": "c0451571-9b17-4059-ba05-7852f1788027"
      },
      "source": [
        "df_tmp.info()"
      ],
      "execution_count": 41,
      "outputs": [
        {
          "output_type": "stream",
          "text": [
            "<class 'pandas.core.frame.DataFrame'>\n",
            "RangeIndex: 412698 entries, 0 to 412697\n",
            "Columns: 102 entries, SalesID to Steering_Controls_is_missing\n",
            "dtypes: bool(46), float64(3), int16(4), int64(9), int8(40)\n",
            "memory usage: 74.8 MB\n"
          ],
          "name": "stdout"
        }
      ]
    },
    {
      "cell_type": "code",
      "metadata": {
        "id": "NBqrmF_LPKfY",
        "colab_type": "code",
        "colab": {
          "base_uri": "https://localhost:8080/",
          "height": 221
        },
        "outputId": "4478e019-e227-466c-92bf-fc2bcc807fe8"
      },
      "source": [
        "df_tmp.isna().sum()"
      ],
      "execution_count": 42,
      "outputs": [
        {
          "output_type": "execute_result",
          "data": {
            "text/plain": [
              "SalesID                         0\n",
              "SalePrice                       0\n",
              "MachineID                       0\n",
              "ModelID                         0\n",
              "datasource                      0\n",
              "                               ..\n",
              "Backhoe_Mounting_is_missing     0\n",
              "Blade_Type_is_missing           0\n",
              "Travel_Controls_is_missing      0\n",
              "Differential_Type_is_missing    0\n",
              "Steering_Controls_is_missing    0\n",
              "Length: 102, dtype: int64"
            ]
          },
          "metadata": {
            "tags": []
          },
          "execution_count": 42
        }
      ]
    },
    {
      "cell_type": "markdown",
      "metadata": {
        "id": "iS9K5g94QHQY",
        "colab_type": "text"
      },
      "source": [
        "### Trying to create the model again"
      ]
    },
    {
      "cell_type": "code",
      "metadata": {
        "id": "yob-c6xiP3Xw",
        "colab_type": "code",
        "colab": {
          "base_uri": "https://localhost:8080/",
          "height": 51
        },
        "outputId": "d546f6c2-ef85-4879-9d75-4da8e355b06f"
      },
      "source": [
        "%%time\n",
        "# Let's build a machine learning model\n",
        "from sklearn.ensemble import RandomForestRegressor\n",
        "model = RandomForestRegressor(n_jobs=-1, random_state=42) # n_jobs = -1 try to use all power\n",
        "model.fit(df_tmp.drop(\"SalePrice\", axis=1), df_tmp[\"SalePrice\"])"
      ],
      "execution_count": 43,
      "outputs": [
        {
          "output_type": "stream",
          "text": [
            "CPU times: user 17min 58s, sys: 3.47 s, total: 18min 1s\n",
            "Wall time: 9min 13s\n"
          ],
          "name": "stdout"
        }
      ]
    },
    {
      "cell_type": "code",
      "metadata": {
        "id": "dP6JKoJEQNKw",
        "colab_type": "code",
        "colab": {
          "base_uri": "https://localhost:8080/",
          "height": 34
        },
        "outputId": "cfd72c4f-40f1-4678-93c9-5b0780d48348"
      },
      "source": [
        "# Score the model\n",
        "model.score(df_tmp.drop(\"SalePrice\", axis=1), df_tmp[\"SalePrice\"])"
      ],
      "execution_count": 44,
      "outputs": [
        {
          "output_type": "execute_result",
          "data": {
            "text/plain": [
              "0.987509665522877"
            ]
          },
          "metadata": {
            "tags": []
          },
          "execution_count": 44
        }
      ]
    },
    {
      "cell_type": "markdown",
      "metadata": {
        "id": "PcCCViE3g5Mv",
        "colab_type": "text"
      },
      "source": [
        "***Question***\n",
        "Why doesn't above metric hold water? (why isn't metric reliable)"
      ]
    },
    {
      "cell_type": "markdown",
      "metadata": {
        "id": "5UfxVqYChs3s",
        "colab_type": "text"
      },
      "source": [
        "### Splitting data into train/validation datasets"
      ]
    },
    {
      "cell_type": "code",
      "metadata": {
        "id": "Pwp78UN5gu_R",
        "colab_type": "code",
        "colab": {
          "base_uri": "https://localhost:8080/",
          "height": 221
        },
        "outputId": "066848da-46bf-4ee7-a32c-5ad82995fff7"
      },
      "source": [
        "df_tmp.saleYear"
      ],
      "execution_count": 45,
      "outputs": [
        {
          "output_type": "execute_result",
          "data": {
            "text/plain": [
              "0         1989\n",
              "1         1989\n",
              "2         1989\n",
              "3         1989\n",
              "4         1989\n",
              "          ... \n",
              "412693    2012\n",
              "412694    2012\n",
              "412695    2012\n",
              "412696    2012\n",
              "412697    2012\n",
              "Name: saleYear, Length: 412698, dtype: int64"
            ]
          },
          "metadata": {
            "tags": []
          },
          "execution_count": 45
        }
      ]
    },
    {
      "cell_type": "code",
      "metadata": {
        "id": "ANWeWpIIh0kW",
        "colab_type": "code",
        "colab": {
          "base_uri": "https://localhost:8080/",
          "height": 442
        },
        "outputId": "aeadd2be-4f09-480c-84fd-ad8f2a8bdc88"
      },
      "source": [
        "df_tmp.saleYear.value_counts()"
      ],
      "execution_count": 46,
      "outputs": [
        {
          "output_type": "execute_result",
          "data": {
            "text/plain": [
              "2009    43849\n",
              "2008    39767\n",
              "2011    35197\n",
              "2010    33390\n",
              "2007    32208\n",
              "2006    21685\n",
              "2005    20463\n",
              "2004    19879\n",
              "2001    17594\n",
              "2000    17415\n",
              "2002    17246\n",
              "2003    15254\n",
              "1998    13046\n",
              "1999    12793\n",
              "2012    11573\n",
              "1997     9785\n",
              "1996     8829\n",
              "1995     8530\n",
              "1994     7929\n",
              "1993     6303\n",
              "1992     5519\n",
              "1991     5109\n",
              "1989     4806\n",
              "1990     4529\n",
              "Name: saleYear, dtype: int64"
            ]
          },
          "metadata": {
            "tags": []
          },
          "execution_count": 46
        }
      ]
    },
    {
      "cell_type": "code",
      "metadata": {
        "id": "xFiWdlvBiCtD",
        "colab_type": "code",
        "colab": {
          "base_uri": "https://localhost:8080/",
          "height": 34
        },
        "outputId": "e286dcca-310d-46e2-a537-9081507de97a"
      },
      "source": [
        "# Split data into training and validation\n",
        "df_val = df_tmp[df_tmp.saleYear == 2012]\n",
        "df_train = df_tmp[df_tmp.saleYear != 2012]\n",
        "len(df_val), len(df_train)"
      ],
      "execution_count": 47,
      "outputs": [
        {
          "output_type": "execute_result",
          "data": {
            "text/plain": [
              "(11573, 401125)"
            ]
          },
          "metadata": {
            "tags": []
          },
          "execution_count": 47
        }
      ]
    },
    {
      "cell_type": "code",
      "metadata": {
        "id": "GL3FkanrigDk",
        "colab_type": "code",
        "colab": {
          "base_uri": "https://localhost:8080/",
          "height": 34
        },
        "outputId": "dc35ced3-c235-476f-a072-43d19fcc535e"
      },
      "source": [
        "# Split data into X and y\n",
        "X_train, y_train = df_train.drop(\"SalePrice\", axis=1), df_train[\"SalePrice\"]\n",
        "X_valid, y_valid = df_val.drop(\"SalePrice\", axis=1), df_val[\"SalePrice\"]\n",
        "X_train.shape, y_train.shape, X_valid.shape, y_valid.shape"
      ],
      "execution_count": 48,
      "outputs": [
        {
          "output_type": "execute_result",
          "data": {
            "text/plain": [
              "((401125, 101), (401125,), (11573, 101), (11573,))"
            ]
          },
          "metadata": {
            "tags": []
          },
          "execution_count": 48
        }
      ]
    },
    {
      "cell_type": "markdown",
      "metadata": {
        "id": "RmBmvIH4kKz4",
        "colab_type": "text"
      },
      "source": [
        "### Building a evaluation function"
      ]
    },
    {
      "cell_type": "code",
      "metadata": {
        "id": "OdnuGxNPjONC",
        "colab_type": "code",
        "colab": {}
      },
      "source": [
        "# Create evaluation function (RMSLE)\n",
        "from sklearn.metrics import mean_absolute_error, mean_squared_log_error, r2_score\n",
        "def rmsle(y_test, y_preds):\n",
        "  \"\"\"\n",
        "  Calculates root mean square log error between predictions\n",
        "  and true labels.\n",
        "  \"\"\"\n",
        "  return np.sqrt(mean_squared_log_error(y_test, y_preds)) \n",
        "\n",
        "# Create function to evaluate model on a different levels\n",
        "def show_scores(model):\n",
        "  train_preds = model.predict(X_train)\n",
        "  val_preds = model.predict(X_valid)\n",
        "  scores = {\n",
        "      \"MAE Training\": mean_absolute_error(y_train, train_preds),\n",
        "      \"MAE Valid\": mean_absolute_error(y_valid, val_preds),\n",
        "      \"RMSLE Training\": rmsle(y_train, train_preds),\n",
        "      \"RMSLE Valid\": rmsle(y_valid, val_preds),\n",
        "      \"R2 Score Training\": r2_score(y_train, train_preds),\n",
        "      \"R2 Score Valid\": r2_score(y_valid, val_preds)\n",
        "  }\n",
        "  return scores"
      ],
      "execution_count": 0,
      "outputs": []
    },
    {
      "cell_type": "markdown",
      "metadata": {
        "id": "6Pl0arywZ63K",
        "colab_type": "text"
      },
      "source": [
        "## Testing our model on a subset"
      ]
    },
    {
      "cell_type": "code",
      "metadata": {
        "id": "adNY-fMxm018",
        "colab_type": "code",
        "colab": {}
      },
      "source": [
        "# # This takes too long\n",
        "# %%time\n",
        "# model = RandomForestRegressor(n_jobs=-1, random_state=42)\n",
        "# model.fit(X_train, y_train)"
      ],
      "execution_count": 0,
      "outputs": []
    },
    {
      "cell_type": "code",
      "metadata": {
        "id": "MXJm9zrsaS34",
        "colab_type": "code",
        "colab": {}
      },
      "source": [
        "# Change max_samples value\n",
        "model = RandomForestRegressor(n_jobs=-1,\n",
        "                              random_state=42,\n",
        "                              max_samples=10000)"
      ],
      "execution_count": 0,
      "outputs": []
    },
    {
      "cell_type": "code",
      "metadata": {
        "id": "Z2L-m39Jdgqf",
        "colab_type": "code",
        "colab": {
          "base_uri": "https://localhost:8080/",
          "height": 170
        },
        "outputId": "d3cf07aa-af2f-4cb0-df24-d007974dc3b8"
      },
      "source": [
        "%%time\n",
        "# Cutting down on the max number of samples each estimator can see improves running time\n",
        "model.fit(X_train, y_train)"
      ],
      "execution_count": 52,
      "outputs": [
        {
          "output_type": "stream",
          "text": [
            "CPU times: user 40.8 s, sys: 149 ms, total: 40.9 s\n",
            "Wall time: 21.8 s\n"
          ],
          "name": "stdout"
        },
        {
          "output_type": "execute_result",
          "data": {
            "text/plain": [
              "RandomForestRegressor(bootstrap=True, ccp_alpha=0.0, criterion='mse',\n",
              "                      max_depth=None, max_features='auto', max_leaf_nodes=None,\n",
              "                      max_samples=10000, min_impurity_decrease=0.0,\n",
              "                      min_impurity_split=None, min_samples_leaf=1,\n",
              "                      min_samples_split=2, min_weight_fraction_leaf=0.0,\n",
              "                      n_estimators=100, n_jobs=-1, oob_score=False,\n",
              "                      random_state=42, verbose=0, warm_start=False)"
            ]
          },
          "metadata": {
            "tags": []
          },
          "execution_count": 52
        }
      ]
    },
    {
      "cell_type": "code",
      "metadata": {
        "id": "TJ3dgaI-dyAp",
        "colab_type": "code",
        "colab": {
          "base_uri": "https://localhost:8080/",
          "height": 119
        },
        "outputId": "c24fed3d-49f3-48bd-d9c8-f333eee19b79"
      },
      "source": [
        "show_scores(model)"
      ],
      "execution_count": 59,
      "outputs": [
        {
          "output_type": "execute_result",
          "data": {
            "text/plain": [
              "{'MAE Training': 5547.497373162978,\n",
              " 'MAE Valid': 7130.6377257409495,\n",
              " 'R2 Score Training': 0.8612599633328437,\n",
              " 'R2 Score Valid': 0.8337686572853422,\n",
              " 'RMSLE Training': 0.25710686763781876,\n",
              " 'RMSLE Valid': 0.29069976075161047}"
            ]
          },
          "metadata": {
            "tags": []
          },
          "execution_count": 59
        }
      ]
    },
    {
      "cell_type": "code",
      "metadata": {
        "id": "OQmEoy82eEiE",
        "colab_type": "code",
        "colab": {}
      },
      "source": [
        ""
      ],
      "execution_count": 0,
      "outputs": []
    }
  ]
}